{
 "cells": [
  {
   "cell_type": "markdown",
   "id": "61266a73",
   "metadata": {},
   "source": [
    "# Importing libraries and data"
   ]
  },
  {
   "cell_type": "code",
   "execution_count": 1,
   "id": "56e4fa97",
   "metadata": {},
   "outputs": [],
   "source": [
    "# import libraries\n",
    "\n",
    "import pandas as pd\n",
    "import numpy as np\n",
    "import os\n",
    "import matplotlib.pyplot as plt\n",
    "import seaborn as sns\n",
    "import scipy"
   ]
  },
  {
   "cell_type": "code",
   "execution_count": 2,
   "id": "fab1449c",
   "metadata": {},
   "outputs": [],
   "source": [
    "# define path\n",
    "\n",
    "path = r'/Users/martyna/Documents/CF Data Analysis/Data Immersion/Acheivement 4/Instacart Basket Analysis 6.22'"
   ]
  },
  {
   "cell_type": "code",
   "execution_count": 3,
   "id": "45b11ea9",
   "metadata": {},
   "outputs": [],
   "source": [
    "# import data\n",
    "\n",
    "full_merge = pd.read_pickle(os.path.join(path, '02 Data', 'Prepared Data', 'full_merge.pkl'))"
   ]
  },
  {
   "cell_type": "code",
   "execution_count": 4,
   "id": "babf5a54",
   "metadata": {},
   "outputs": [],
   "source": [
    "full_merge_PII = full_merge.drop(columns = ['first_name', 'last_name'])"
   ]
  },
  {
   "cell_type": "code",
   "execution_count": 5,
   "id": "a269365a",
   "metadata": {},
   "outputs": [
    {
     "data": {
      "text/html": [
       "<div>\n",
       "<style scoped>\n",
       "    .dataframe tbody tr th:only-of-type {\n",
       "        vertical-align: middle;\n",
       "    }\n",
       "\n",
       "    .dataframe tbody tr th {\n",
       "        vertical-align: top;\n",
       "    }\n",
       "\n",
       "    .dataframe thead th {\n",
       "        text-align: right;\n",
       "    }\n",
       "</style>\n",
       "<table border=\"1\" class=\"dataframe\">\n",
       "  <thead>\n",
       "    <tr style=\"text-align: right;\">\n",
       "      <th></th>\n",
       "      <th>order_id</th>\n",
       "      <th>user_id</th>\n",
       "      <th>order_number</th>\n",
       "      <th>orders_days_of_week</th>\n",
       "      <th>order_hour_of_day</th>\n",
       "      <th>days_since_last_order</th>\n",
       "      <th>new_customer</th>\n",
       "      <th>product_id</th>\n",
       "      <th>add_to_cart_order</th>\n",
       "      <th>reordered</th>\n",
       "      <th>...</th>\n",
       "      <th>spending_flag</th>\n",
       "      <th>frequency</th>\n",
       "      <th>frequency_flag</th>\n",
       "      <th>gender</th>\n",
       "      <th>state</th>\n",
       "      <th>age</th>\n",
       "      <th>date_joined</th>\n",
       "      <th>#_of_dependents</th>\n",
       "      <th>marital_status</th>\n",
       "      <th>income</th>\n",
       "    </tr>\n",
       "  </thead>\n",
       "  <tbody>\n",
       "    <tr>\n",
       "      <th>0</th>\n",
       "      <td>2539329</td>\n",
       "      <td>1</td>\n",
       "      <td>1</td>\n",
       "      <td>2</td>\n",
       "      <td>8</td>\n",
       "      <td>NaN</td>\n",
       "      <td>True</td>\n",
       "      <td>196</td>\n",
       "      <td>1</td>\n",
       "      <td>0</td>\n",
       "      <td>...</td>\n",
       "      <td>Low Spender</td>\n",
       "      <td>20.5</td>\n",
       "      <td>Non-frequent customer</td>\n",
       "      <td>Female</td>\n",
       "      <td>Alabama</td>\n",
       "      <td>31</td>\n",
       "      <td>2/17/2019</td>\n",
       "      <td>3</td>\n",
       "      <td>married</td>\n",
       "      <td>40423</td>\n",
       "    </tr>\n",
       "    <tr>\n",
       "      <th>1</th>\n",
       "      <td>2398795</td>\n",
       "      <td>1</td>\n",
       "      <td>2</td>\n",
       "      <td>3</td>\n",
       "      <td>7</td>\n",
       "      <td>15.0</td>\n",
       "      <td>False</td>\n",
       "      <td>196</td>\n",
       "      <td>1</td>\n",
       "      <td>1</td>\n",
       "      <td>...</td>\n",
       "      <td>Low Spender</td>\n",
       "      <td>20.5</td>\n",
       "      <td>Non-frequent customer</td>\n",
       "      <td>Female</td>\n",
       "      <td>Alabama</td>\n",
       "      <td>31</td>\n",
       "      <td>2/17/2019</td>\n",
       "      <td>3</td>\n",
       "      <td>married</td>\n",
       "      <td>40423</td>\n",
       "    </tr>\n",
       "    <tr>\n",
       "      <th>2</th>\n",
       "      <td>473747</td>\n",
       "      <td>1</td>\n",
       "      <td>3</td>\n",
       "      <td>3</td>\n",
       "      <td>12</td>\n",
       "      <td>21.0</td>\n",
       "      <td>False</td>\n",
       "      <td>196</td>\n",
       "      <td>1</td>\n",
       "      <td>1</td>\n",
       "      <td>...</td>\n",
       "      <td>Low Spender</td>\n",
       "      <td>20.5</td>\n",
       "      <td>Non-frequent customer</td>\n",
       "      <td>Female</td>\n",
       "      <td>Alabama</td>\n",
       "      <td>31</td>\n",
       "      <td>2/17/2019</td>\n",
       "      <td>3</td>\n",
       "      <td>married</td>\n",
       "      <td>40423</td>\n",
       "    </tr>\n",
       "    <tr>\n",
       "      <th>3</th>\n",
       "      <td>2254736</td>\n",
       "      <td>1</td>\n",
       "      <td>4</td>\n",
       "      <td>4</td>\n",
       "      <td>7</td>\n",
       "      <td>29.0</td>\n",
       "      <td>False</td>\n",
       "      <td>196</td>\n",
       "      <td>1</td>\n",
       "      <td>1</td>\n",
       "      <td>...</td>\n",
       "      <td>Low Spender</td>\n",
       "      <td>20.5</td>\n",
       "      <td>Non-frequent customer</td>\n",
       "      <td>Female</td>\n",
       "      <td>Alabama</td>\n",
       "      <td>31</td>\n",
       "      <td>2/17/2019</td>\n",
       "      <td>3</td>\n",
       "      <td>married</td>\n",
       "      <td>40423</td>\n",
       "    </tr>\n",
       "    <tr>\n",
       "      <th>4</th>\n",
       "      <td>431534</td>\n",
       "      <td>1</td>\n",
       "      <td>5</td>\n",
       "      <td>4</td>\n",
       "      <td>15</td>\n",
       "      <td>28.0</td>\n",
       "      <td>False</td>\n",
       "      <td>196</td>\n",
       "      <td>1</td>\n",
       "      <td>1</td>\n",
       "      <td>...</td>\n",
       "      <td>Low Spender</td>\n",
       "      <td>20.5</td>\n",
       "      <td>Non-frequent customer</td>\n",
       "      <td>Female</td>\n",
       "      <td>Alabama</td>\n",
       "      <td>31</td>\n",
       "      <td>2/17/2019</td>\n",
       "      <td>3</td>\n",
       "      <td>married</td>\n",
       "      <td>40423</td>\n",
       "    </tr>\n",
       "  </tbody>\n",
       "</table>\n",
       "<p>5 rows × 33 columns</p>\n",
       "</div>"
      ],
      "text/plain": [
       "   order_id  user_id  order_number  orders_days_of_week  order_hour_of_day  \\\n",
       "0   2539329        1             1                    2                  8   \n",
       "1   2398795        1             2                    3                  7   \n",
       "2    473747        1             3                    3                 12   \n",
       "3   2254736        1             4                    4                  7   \n",
       "4    431534        1             5                    4                 15   \n",
       "\n",
       "   days_since_last_order  new_customer  product_id  add_to_cart_order  \\\n",
       "0                    NaN          True         196                  1   \n",
       "1                   15.0         False         196                  1   \n",
       "2                   21.0         False         196                  1   \n",
       "3                   29.0         False         196                  1   \n",
       "4                   28.0         False         196                  1   \n",
       "\n",
       "   reordered  ...  spending_flag frequency         frequency_flag  gender  \\\n",
       "0          0  ...    Low Spender      20.5  Non-frequent customer  Female   \n",
       "1          1  ...    Low Spender      20.5  Non-frequent customer  Female   \n",
       "2          1  ...    Low Spender      20.5  Non-frequent customer  Female   \n",
       "3          1  ...    Low Spender      20.5  Non-frequent customer  Female   \n",
       "4          1  ...    Low Spender      20.5  Non-frequent customer  Female   \n",
       "\n",
       "     state age date_joined #_of_dependents marital_status income  \n",
       "0  Alabama  31   2/17/2019               3        married  40423  \n",
       "1  Alabama  31   2/17/2019               3        married  40423  \n",
       "2  Alabama  31   2/17/2019               3        married  40423  \n",
       "3  Alabama  31   2/17/2019               3        married  40423  \n",
       "4  Alabama  31   2/17/2019               3        married  40423  \n",
       "\n",
       "[5 rows x 33 columns]"
      ]
     },
     "execution_count": 5,
     "metadata": {},
     "output_type": "execute_result"
    }
   ],
   "source": [
    "full_merge_PII.head()"
   ]
  },
  {
   "cell_type": "code",
   "execution_count": 6,
   "id": "28211140",
   "metadata": {},
   "outputs": [],
   "source": [
    "pd.options.display.max_columns = None"
   ]
  },
  {
   "cell_type": "code",
   "execution_count": 7,
   "id": "db56c5b9",
   "metadata": {},
   "outputs": [
    {
     "data": {
      "text/html": [
       "<div>\n",
       "<style scoped>\n",
       "    .dataframe tbody tr th:only-of-type {\n",
       "        vertical-align: middle;\n",
       "    }\n",
       "\n",
       "    .dataframe tbody tr th {\n",
       "        vertical-align: top;\n",
       "    }\n",
       "\n",
       "    .dataframe thead th {\n",
       "        text-align: right;\n",
       "    }\n",
       "</style>\n",
       "<table border=\"1\" class=\"dataframe\">\n",
       "  <thead>\n",
       "    <tr style=\"text-align: right;\">\n",
       "      <th></th>\n",
       "      <th>order_id</th>\n",
       "      <th>user_id</th>\n",
       "      <th>order_number</th>\n",
       "      <th>orders_days_of_week</th>\n",
       "      <th>order_hour_of_day</th>\n",
       "      <th>days_since_last_order</th>\n",
       "      <th>new_customer</th>\n",
       "      <th>product_id</th>\n",
       "      <th>add_to_cart_order</th>\n",
       "      <th>reordered</th>\n",
       "      <th>Unnamed: 0_y</th>\n",
       "      <th>product_name</th>\n",
       "      <th>aisle_id</th>\n",
       "      <th>department_id</th>\n",
       "      <th>prices</th>\n",
       "      <th>_merge</th>\n",
       "      <th>price_range_loc</th>\n",
       "      <th>busiest_day</th>\n",
       "      <th>busiest_days</th>\n",
       "      <th>busiest_period_of_day</th>\n",
       "      <th>max_order</th>\n",
       "      <th>loyalty_flag</th>\n",
       "      <th>spending</th>\n",
       "      <th>spending_flag</th>\n",
       "      <th>frequency</th>\n",
       "      <th>frequency_flag</th>\n",
       "      <th>gender</th>\n",
       "      <th>state</th>\n",
       "      <th>age</th>\n",
       "      <th>date_joined</th>\n",
       "      <th>#_of_dependents</th>\n",
       "      <th>marital_status</th>\n",
       "      <th>income</th>\n",
       "    </tr>\n",
       "  </thead>\n",
       "  <tbody>\n",
       "    <tr>\n",
       "      <th>0</th>\n",
       "      <td>2539329</td>\n",
       "      <td>1</td>\n",
       "      <td>1</td>\n",
       "      <td>2</td>\n",
       "      <td>8</td>\n",
       "      <td>NaN</td>\n",
       "      <td>True</td>\n",
       "      <td>196</td>\n",
       "      <td>1</td>\n",
       "      <td>0</td>\n",
       "      <td>195</td>\n",
       "      <td>Soda</td>\n",
       "      <td>77</td>\n",
       "      <td>7</td>\n",
       "      <td>9.0</td>\n",
       "      <td>both</td>\n",
       "      <td>Mid-range product</td>\n",
       "      <td>Regularly busy</td>\n",
       "      <td>Regularly busy</td>\n",
       "      <td>Average orders</td>\n",
       "      <td>10</td>\n",
       "      <td>New customer</td>\n",
       "      <td>6.367797</td>\n",
       "      <td>Low Spender</td>\n",
       "      <td>20.5</td>\n",
       "      <td>Non-frequent customer</td>\n",
       "      <td>Female</td>\n",
       "      <td>Alabama</td>\n",
       "      <td>31</td>\n",
       "      <td>2/17/2019</td>\n",
       "      <td>3</td>\n",
       "      <td>married</td>\n",
       "      <td>40423</td>\n",
       "    </tr>\n",
       "    <tr>\n",
       "      <th>1</th>\n",
       "      <td>2398795</td>\n",
       "      <td>1</td>\n",
       "      <td>2</td>\n",
       "      <td>3</td>\n",
       "      <td>7</td>\n",
       "      <td>15.0</td>\n",
       "      <td>False</td>\n",
       "      <td>196</td>\n",
       "      <td>1</td>\n",
       "      <td>1</td>\n",
       "      <td>195</td>\n",
       "      <td>Soda</td>\n",
       "      <td>77</td>\n",
       "      <td>7</td>\n",
       "      <td>9.0</td>\n",
       "      <td>both</td>\n",
       "      <td>Mid-range product</td>\n",
       "      <td>Regularly busy</td>\n",
       "      <td>Slowest days</td>\n",
       "      <td>Average orders</td>\n",
       "      <td>10</td>\n",
       "      <td>New customer</td>\n",
       "      <td>6.367797</td>\n",
       "      <td>Low Spender</td>\n",
       "      <td>20.5</td>\n",
       "      <td>Non-frequent customer</td>\n",
       "      <td>Female</td>\n",
       "      <td>Alabama</td>\n",
       "      <td>31</td>\n",
       "      <td>2/17/2019</td>\n",
       "      <td>3</td>\n",
       "      <td>married</td>\n",
       "      <td>40423</td>\n",
       "    </tr>\n",
       "    <tr>\n",
       "      <th>2</th>\n",
       "      <td>473747</td>\n",
       "      <td>1</td>\n",
       "      <td>3</td>\n",
       "      <td>3</td>\n",
       "      <td>12</td>\n",
       "      <td>21.0</td>\n",
       "      <td>False</td>\n",
       "      <td>196</td>\n",
       "      <td>1</td>\n",
       "      <td>1</td>\n",
       "      <td>195</td>\n",
       "      <td>Soda</td>\n",
       "      <td>77</td>\n",
       "      <td>7</td>\n",
       "      <td>9.0</td>\n",
       "      <td>both</td>\n",
       "      <td>Mid-range product</td>\n",
       "      <td>Regularly busy</td>\n",
       "      <td>Slowest days</td>\n",
       "      <td>Most orders</td>\n",
       "      <td>10</td>\n",
       "      <td>New customer</td>\n",
       "      <td>6.367797</td>\n",
       "      <td>Low Spender</td>\n",
       "      <td>20.5</td>\n",
       "      <td>Non-frequent customer</td>\n",
       "      <td>Female</td>\n",
       "      <td>Alabama</td>\n",
       "      <td>31</td>\n",
       "      <td>2/17/2019</td>\n",
       "      <td>3</td>\n",
       "      <td>married</td>\n",
       "      <td>40423</td>\n",
       "    </tr>\n",
       "    <tr>\n",
       "      <th>3</th>\n",
       "      <td>2254736</td>\n",
       "      <td>1</td>\n",
       "      <td>4</td>\n",
       "      <td>4</td>\n",
       "      <td>7</td>\n",
       "      <td>29.0</td>\n",
       "      <td>False</td>\n",
       "      <td>196</td>\n",
       "      <td>1</td>\n",
       "      <td>1</td>\n",
       "      <td>195</td>\n",
       "      <td>Soda</td>\n",
       "      <td>77</td>\n",
       "      <td>7</td>\n",
       "      <td>9.0</td>\n",
       "      <td>both</td>\n",
       "      <td>Mid-range product</td>\n",
       "      <td>Least busy</td>\n",
       "      <td>Slowest days</td>\n",
       "      <td>Average orders</td>\n",
       "      <td>10</td>\n",
       "      <td>New customer</td>\n",
       "      <td>6.367797</td>\n",
       "      <td>Low Spender</td>\n",
       "      <td>20.5</td>\n",
       "      <td>Non-frequent customer</td>\n",
       "      <td>Female</td>\n",
       "      <td>Alabama</td>\n",
       "      <td>31</td>\n",
       "      <td>2/17/2019</td>\n",
       "      <td>3</td>\n",
       "      <td>married</td>\n",
       "      <td>40423</td>\n",
       "    </tr>\n",
       "    <tr>\n",
       "      <th>4</th>\n",
       "      <td>431534</td>\n",
       "      <td>1</td>\n",
       "      <td>5</td>\n",
       "      <td>4</td>\n",
       "      <td>15</td>\n",
       "      <td>28.0</td>\n",
       "      <td>False</td>\n",
       "      <td>196</td>\n",
       "      <td>1</td>\n",
       "      <td>1</td>\n",
       "      <td>195</td>\n",
       "      <td>Soda</td>\n",
       "      <td>77</td>\n",
       "      <td>7</td>\n",
       "      <td>9.0</td>\n",
       "      <td>both</td>\n",
       "      <td>Mid-range product</td>\n",
       "      <td>Least busy</td>\n",
       "      <td>Slowest days</td>\n",
       "      <td>Most orders</td>\n",
       "      <td>10</td>\n",
       "      <td>New customer</td>\n",
       "      <td>6.367797</td>\n",
       "      <td>Low Spender</td>\n",
       "      <td>20.5</td>\n",
       "      <td>Non-frequent customer</td>\n",
       "      <td>Female</td>\n",
       "      <td>Alabama</td>\n",
       "      <td>31</td>\n",
       "      <td>2/17/2019</td>\n",
       "      <td>3</td>\n",
       "      <td>married</td>\n",
       "      <td>40423</td>\n",
       "    </tr>\n",
       "  </tbody>\n",
       "</table>\n",
       "</div>"
      ],
      "text/plain": [
       "   order_id  user_id  order_number  orders_days_of_week  order_hour_of_day  \\\n",
       "0   2539329        1             1                    2                  8   \n",
       "1   2398795        1             2                    3                  7   \n",
       "2    473747        1             3                    3                 12   \n",
       "3   2254736        1             4                    4                  7   \n",
       "4    431534        1             5                    4                 15   \n",
       "\n",
       "   days_since_last_order  new_customer  product_id  add_to_cart_order  \\\n",
       "0                    NaN          True         196                  1   \n",
       "1                   15.0         False         196                  1   \n",
       "2                   21.0         False         196                  1   \n",
       "3                   29.0         False         196                  1   \n",
       "4                   28.0         False         196                  1   \n",
       "\n",
       "   reordered  Unnamed: 0_y product_name  aisle_id  department_id  prices  \\\n",
       "0          0           195         Soda        77              7     9.0   \n",
       "1          1           195         Soda        77              7     9.0   \n",
       "2          1           195         Soda        77              7     9.0   \n",
       "3          1           195         Soda        77              7     9.0   \n",
       "4          1           195         Soda        77              7     9.0   \n",
       "\n",
       "  _merge    price_range_loc     busiest_day    busiest_days  \\\n",
       "0   both  Mid-range product  Regularly busy  Regularly busy   \n",
       "1   both  Mid-range product  Regularly busy    Slowest days   \n",
       "2   both  Mid-range product  Regularly busy    Slowest days   \n",
       "3   both  Mid-range product      Least busy    Slowest days   \n",
       "4   both  Mid-range product      Least busy    Slowest days   \n",
       "\n",
       "  busiest_period_of_day  max_order  loyalty_flag  spending spending_flag  \\\n",
       "0        Average orders         10  New customer  6.367797   Low Spender   \n",
       "1        Average orders         10  New customer  6.367797   Low Spender   \n",
       "2           Most orders         10  New customer  6.367797   Low Spender   \n",
       "3        Average orders         10  New customer  6.367797   Low Spender   \n",
       "4           Most orders         10  New customer  6.367797   Low Spender   \n",
       "\n",
       "   frequency         frequency_flag  gender    state  age date_joined  \\\n",
       "0       20.5  Non-frequent customer  Female  Alabama   31   2/17/2019   \n",
       "1       20.5  Non-frequent customer  Female  Alabama   31   2/17/2019   \n",
       "2       20.5  Non-frequent customer  Female  Alabama   31   2/17/2019   \n",
       "3       20.5  Non-frequent customer  Female  Alabama   31   2/17/2019   \n",
       "4       20.5  Non-frequent customer  Female  Alabama   31   2/17/2019   \n",
       "\n",
       "   #_of_dependents marital_status  income  \n",
       "0                3        married   40423  \n",
       "1                3        married   40423  \n",
       "2                3        married   40423  \n",
       "3                3        married   40423  \n",
       "4                3        married   40423  "
      ]
     },
     "execution_count": 7,
     "metadata": {},
     "output_type": "execute_result"
    }
   ],
   "source": [
    "full_merge_PII.head()"
   ]
  },
  {
   "cell_type": "markdown",
   "id": "8bc016c3",
   "metadata": {},
   "source": [
    "## Define functions"
   ]
  },
  {
   "cell_type": "code",
   "execution_count": 8,
   "id": "76ecaecd",
   "metadata": {},
   "outputs": [],
   "source": [
    "# define the function\n",
    "\n",
    "result = []\n",
    "for value in full_merge_PII ['state']:\n",
    "    if (value in ['Maine', 'New Hampshire', 'Vermont', 'Massachusetts', 'Rhode Island', 'Connecticut', 'New York', 'Pennsylvania', 'New Jersey']):\n",
    "        result.append ('Northeast')\n",
    "    elif (value in ['Wisconsin', 'Michigan', 'Illinois', 'Indiana', 'Ohio', 'North Dakota', 'South Dakota', 'Nebraska', 'Kansas', 'Minnesota', 'Iowa', 'Missouri']):\n",
    "        result.append ('Midwest')\n",
    "    elif (value in ['Delaware', 'Maryland', 'District of Columbia', 'Virginia', 'West Virginia', 'North Carolina', 'South Carolina', 'Georgia', 'Florida', 'Kentucky', 'Tennessee', 'Mississippi', 'Alabama']):\n",
    "         result.append ('South')\n",
    "    else: result.append ('West')"
   ]
  },
  {
   "cell_type": "code",
   "execution_count": 9,
   "id": "512d77da",
   "metadata": {},
   "outputs": [],
   "source": [
    "# apply the function\n",
    "\n",
    "full_merge_PII['region'] = result"
   ]
  },
  {
   "cell_type": "code",
   "execution_count": 10,
   "id": "5d855157",
   "metadata": {},
   "outputs": [],
   "source": [
    "# create a function for age group\n",
    "\n",
    "age_group = []\n",
    "\n",
    "for value in full_merge_PII ['age']:\n",
    "    if (value > 18) & (value <= 34):\n",
    "        age_group.append('18-34 age group')\n",
    "    elif (value > 35) & (value <= 50):\n",
    "        age_group.append ('35-50 age group')\n",
    "    elif (value > 51) & (value <= 69):\n",
    "        age_group.append('51-69 age group')\n",
    "    else: age_group.append('70-81 age group')"
   ]
  },
  {
   "cell_type": "code",
   "execution_count": 11,
   "id": "20dab143",
   "metadata": {},
   "outputs": [],
   "source": [
    "# apply the function\n",
    "\n",
    "full_merge_PII['age_group'] = age_group"
   ]
  },
  {
   "cell_type": "code",
   "execution_count": 12,
   "id": "c4557acd",
   "metadata": {},
   "outputs": [],
   "source": [
    "# create a function for income groups\n",
    "\n",
    "income_group = []\n",
    "\n",
    "for value in full_merge_PII ['income']:\n",
    "    if (value < 20000):\n",
    "        income_group.append('Below or near poverty level')\n",
    "    elif (value >= 20000) & (value <= 44999):\n",
    "        income_group.append('Low income')\n",
    "    elif (value >= 45000) & (value <= 139999):\n",
    "        income_group.append('Middle class')\n",
    "    elif (value >= 140000) & (value <= 149999):\n",
    "        income_group.append('Upper middle class')\n",
    "    elif (value >= 150000) & (value <= 199999):\n",
    "        income_group.append('High income')\n",
    "    else: income_group.append('Highest income')"
   ]
  },
  {
   "cell_type": "code",
   "execution_count": 13,
   "id": "842462d8",
   "metadata": {},
   "outputs": [],
   "source": [
    "# apply income group\n",
    "\n",
    "full_merge_PII['income_group'] = income_group"
   ]
  },
  {
   "cell_type": "code",
   "execution_count": 14,
   "id": "56dcd61d",
   "metadata": {},
   "outputs": [],
   "source": [
    "# create goods profile list\n",
    "goods_profile = []\n",
    "\n",
    "for value in full_merge_PII['department_id']:\n",
    "    if value == 1:\n",
    "        goods_profile.append('Frozen')\n",
    "    elif value == 2:\n",
    "        goods_profile.append('Other')\n",
    "    elif value == 3:\n",
    "        goods_profile.append('Bakery')\n",
    "    elif value == 4:\n",
    "        goods_profile.append('Produce')\n",
    "    elif value == 5:\n",
    "        goods_profile.append('Alcohol')\n",
    "    elif value == 6:\n",
    "        goods_profile.append('International')\n",
    "    elif value == 7:\n",
    "        goods_profile.append('Beverages')\n",
    "    elif value == 8:\n",
    "        goods_profile.append('Pets')\n",
    "    elif value == 9:\n",
    "        goods_profile.append('Dry goods pasta')\n",
    "    elif value == 10:\n",
    "        goods_profile.append('Bulk')\n",
    "    elif value == 11:\n",
    "        goods_profile.append('Personal care')\n",
    "    elif value == 12:\n",
    "        goods_profile.append('Meat seafood')\n",
    "    elif value == 13:\n",
    "        goods_profile.append('Pantry')\n",
    "    elif value == 14:\n",
    "        goods_profile.append('Breakfast')\n",
    "    elif value == 15:\n",
    "        goods_profile.append('Canned goods')\n",
    "    elif value == 16:\n",
    "        goods_profile.append('Dairy eggs')\n",
    "    elif value == 17:\n",
    "        goods_profile.append('Household')\n",
    "    elif value == 18:\n",
    "        goods_profile.append('Babies')\n",
    "    elif value == 19:\n",
    "        goods_profile.append('Snacks')\n",
    "    elif value == 20:\n",
    "        goods_profile.append('Deli')\n",
    "    elif value == 21:\n",
    "        goods_profile.append('Missing')"
   ]
  },
  {
   "cell_type": "code",
   "execution_count": 15,
   "id": "4b41cf6b",
   "metadata": {},
   "outputs": [],
   "source": [
    "# apply goods profile function\n",
    "\n",
    "full_merge_PII['goods_profile'] = goods_profile"
   ]
  },
  {
   "cell_type": "markdown",
   "id": "05e57e6e",
   "metadata": {},
   "source": [
    "## Visualizations"
   ]
  },
  {
   "cell_type": "code",
   "execution_count": 16,
   "id": "7cc79dd7",
   "metadata": {},
   "outputs": [
    {
     "data": {
      "text/html": [
       "<div>\n",
       "<style scoped>\n",
       "    .dataframe tbody tr th:only-of-type {\n",
       "        vertical-align: middle;\n",
       "    }\n",
       "\n",
       "    .dataframe tbody tr th {\n",
       "        vertical-align: top;\n",
       "    }\n",
       "\n",
       "    .dataframe thead th {\n",
       "        text-align: right;\n",
       "    }\n",
       "</style>\n",
       "<table border=\"1\" class=\"dataframe\">\n",
       "  <thead>\n",
       "    <tr style=\"text-align: right;\">\n",
       "      <th></th>\n",
       "      <th>order_id</th>\n",
       "      <th>user_id</th>\n",
       "      <th>order_number</th>\n",
       "      <th>orders_days_of_week</th>\n",
       "      <th>order_hour_of_day</th>\n",
       "      <th>days_since_last_order</th>\n",
       "      <th>new_customer</th>\n",
       "      <th>product_id</th>\n",
       "      <th>add_to_cart_order</th>\n",
       "      <th>reordered</th>\n",
       "      <th>Unnamed: 0_y</th>\n",
       "      <th>product_name</th>\n",
       "      <th>aisle_id</th>\n",
       "      <th>department_id</th>\n",
       "      <th>prices</th>\n",
       "      <th>_merge</th>\n",
       "      <th>price_range_loc</th>\n",
       "      <th>busiest_day</th>\n",
       "      <th>busiest_days</th>\n",
       "      <th>busiest_period_of_day</th>\n",
       "      <th>max_order</th>\n",
       "      <th>loyalty_flag</th>\n",
       "      <th>spending</th>\n",
       "      <th>spending_flag</th>\n",
       "      <th>frequency</th>\n",
       "      <th>frequency_flag</th>\n",
       "      <th>gender</th>\n",
       "      <th>state</th>\n",
       "      <th>age</th>\n",
       "      <th>date_joined</th>\n",
       "      <th>#_of_dependents</th>\n",
       "      <th>marital_status</th>\n",
       "      <th>income</th>\n",
       "      <th>region</th>\n",
       "      <th>age_group</th>\n",
       "      <th>income_group</th>\n",
       "      <th>goods_profile</th>\n",
       "    </tr>\n",
       "  </thead>\n",
       "  <tbody>\n",
       "    <tr>\n",
       "      <th>0</th>\n",
       "      <td>2539329</td>\n",
       "      <td>1</td>\n",
       "      <td>1</td>\n",
       "      <td>2</td>\n",
       "      <td>8</td>\n",
       "      <td>NaN</td>\n",
       "      <td>True</td>\n",
       "      <td>196</td>\n",
       "      <td>1</td>\n",
       "      <td>0</td>\n",
       "      <td>195</td>\n",
       "      <td>Soda</td>\n",
       "      <td>77</td>\n",
       "      <td>7</td>\n",
       "      <td>9.0</td>\n",
       "      <td>both</td>\n",
       "      <td>Mid-range product</td>\n",
       "      <td>Regularly busy</td>\n",
       "      <td>Regularly busy</td>\n",
       "      <td>Average orders</td>\n",
       "      <td>10</td>\n",
       "      <td>New customer</td>\n",
       "      <td>6.367797</td>\n",
       "      <td>Low Spender</td>\n",
       "      <td>20.5</td>\n",
       "      <td>Non-frequent customer</td>\n",
       "      <td>Female</td>\n",
       "      <td>Alabama</td>\n",
       "      <td>31</td>\n",
       "      <td>2/17/2019</td>\n",
       "      <td>3</td>\n",
       "      <td>married</td>\n",
       "      <td>40423</td>\n",
       "      <td>South</td>\n",
       "      <td>18-34 age group</td>\n",
       "      <td>Low income</td>\n",
       "      <td>Beverages</td>\n",
       "    </tr>\n",
       "    <tr>\n",
       "      <th>1</th>\n",
       "      <td>2398795</td>\n",
       "      <td>1</td>\n",
       "      <td>2</td>\n",
       "      <td>3</td>\n",
       "      <td>7</td>\n",
       "      <td>15.0</td>\n",
       "      <td>False</td>\n",
       "      <td>196</td>\n",
       "      <td>1</td>\n",
       "      <td>1</td>\n",
       "      <td>195</td>\n",
       "      <td>Soda</td>\n",
       "      <td>77</td>\n",
       "      <td>7</td>\n",
       "      <td>9.0</td>\n",
       "      <td>both</td>\n",
       "      <td>Mid-range product</td>\n",
       "      <td>Regularly busy</td>\n",
       "      <td>Slowest days</td>\n",
       "      <td>Average orders</td>\n",
       "      <td>10</td>\n",
       "      <td>New customer</td>\n",
       "      <td>6.367797</td>\n",
       "      <td>Low Spender</td>\n",
       "      <td>20.5</td>\n",
       "      <td>Non-frequent customer</td>\n",
       "      <td>Female</td>\n",
       "      <td>Alabama</td>\n",
       "      <td>31</td>\n",
       "      <td>2/17/2019</td>\n",
       "      <td>3</td>\n",
       "      <td>married</td>\n",
       "      <td>40423</td>\n",
       "      <td>South</td>\n",
       "      <td>18-34 age group</td>\n",
       "      <td>Low income</td>\n",
       "      <td>Beverages</td>\n",
       "    </tr>\n",
       "    <tr>\n",
       "      <th>2</th>\n",
       "      <td>473747</td>\n",
       "      <td>1</td>\n",
       "      <td>3</td>\n",
       "      <td>3</td>\n",
       "      <td>12</td>\n",
       "      <td>21.0</td>\n",
       "      <td>False</td>\n",
       "      <td>196</td>\n",
       "      <td>1</td>\n",
       "      <td>1</td>\n",
       "      <td>195</td>\n",
       "      <td>Soda</td>\n",
       "      <td>77</td>\n",
       "      <td>7</td>\n",
       "      <td>9.0</td>\n",
       "      <td>both</td>\n",
       "      <td>Mid-range product</td>\n",
       "      <td>Regularly busy</td>\n",
       "      <td>Slowest days</td>\n",
       "      <td>Most orders</td>\n",
       "      <td>10</td>\n",
       "      <td>New customer</td>\n",
       "      <td>6.367797</td>\n",
       "      <td>Low Spender</td>\n",
       "      <td>20.5</td>\n",
       "      <td>Non-frequent customer</td>\n",
       "      <td>Female</td>\n",
       "      <td>Alabama</td>\n",
       "      <td>31</td>\n",
       "      <td>2/17/2019</td>\n",
       "      <td>3</td>\n",
       "      <td>married</td>\n",
       "      <td>40423</td>\n",
       "      <td>South</td>\n",
       "      <td>18-34 age group</td>\n",
       "      <td>Low income</td>\n",
       "      <td>Beverages</td>\n",
       "    </tr>\n",
       "    <tr>\n",
       "      <th>3</th>\n",
       "      <td>2254736</td>\n",
       "      <td>1</td>\n",
       "      <td>4</td>\n",
       "      <td>4</td>\n",
       "      <td>7</td>\n",
       "      <td>29.0</td>\n",
       "      <td>False</td>\n",
       "      <td>196</td>\n",
       "      <td>1</td>\n",
       "      <td>1</td>\n",
       "      <td>195</td>\n",
       "      <td>Soda</td>\n",
       "      <td>77</td>\n",
       "      <td>7</td>\n",
       "      <td>9.0</td>\n",
       "      <td>both</td>\n",
       "      <td>Mid-range product</td>\n",
       "      <td>Least busy</td>\n",
       "      <td>Slowest days</td>\n",
       "      <td>Average orders</td>\n",
       "      <td>10</td>\n",
       "      <td>New customer</td>\n",
       "      <td>6.367797</td>\n",
       "      <td>Low Spender</td>\n",
       "      <td>20.5</td>\n",
       "      <td>Non-frequent customer</td>\n",
       "      <td>Female</td>\n",
       "      <td>Alabama</td>\n",
       "      <td>31</td>\n",
       "      <td>2/17/2019</td>\n",
       "      <td>3</td>\n",
       "      <td>married</td>\n",
       "      <td>40423</td>\n",
       "      <td>South</td>\n",
       "      <td>18-34 age group</td>\n",
       "      <td>Low income</td>\n",
       "      <td>Beverages</td>\n",
       "    </tr>\n",
       "    <tr>\n",
       "      <th>4</th>\n",
       "      <td>431534</td>\n",
       "      <td>1</td>\n",
       "      <td>5</td>\n",
       "      <td>4</td>\n",
       "      <td>15</td>\n",
       "      <td>28.0</td>\n",
       "      <td>False</td>\n",
       "      <td>196</td>\n",
       "      <td>1</td>\n",
       "      <td>1</td>\n",
       "      <td>195</td>\n",
       "      <td>Soda</td>\n",
       "      <td>77</td>\n",
       "      <td>7</td>\n",
       "      <td>9.0</td>\n",
       "      <td>both</td>\n",
       "      <td>Mid-range product</td>\n",
       "      <td>Least busy</td>\n",
       "      <td>Slowest days</td>\n",
       "      <td>Most orders</td>\n",
       "      <td>10</td>\n",
       "      <td>New customer</td>\n",
       "      <td>6.367797</td>\n",
       "      <td>Low Spender</td>\n",
       "      <td>20.5</td>\n",
       "      <td>Non-frequent customer</td>\n",
       "      <td>Female</td>\n",
       "      <td>Alabama</td>\n",
       "      <td>31</td>\n",
       "      <td>2/17/2019</td>\n",
       "      <td>3</td>\n",
       "      <td>married</td>\n",
       "      <td>40423</td>\n",
       "      <td>South</td>\n",
       "      <td>18-34 age group</td>\n",
       "      <td>Low income</td>\n",
       "      <td>Beverages</td>\n",
       "    </tr>\n",
       "  </tbody>\n",
       "</table>\n",
       "</div>"
      ],
      "text/plain": [
       "   order_id  user_id  order_number  orders_days_of_week  order_hour_of_day  \\\n",
       "0   2539329        1             1                    2                  8   \n",
       "1   2398795        1             2                    3                  7   \n",
       "2    473747        1             3                    3                 12   \n",
       "3   2254736        1             4                    4                  7   \n",
       "4    431534        1             5                    4                 15   \n",
       "\n",
       "   days_since_last_order  new_customer  product_id  add_to_cart_order  \\\n",
       "0                    NaN          True         196                  1   \n",
       "1                   15.0         False         196                  1   \n",
       "2                   21.0         False         196                  1   \n",
       "3                   29.0         False         196                  1   \n",
       "4                   28.0         False         196                  1   \n",
       "\n",
       "   reordered  Unnamed: 0_y product_name  aisle_id  department_id  prices  \\\n",
       "0          0           195         Soda        77              7     9.0   \n",
       "1          1           195         Soda        77              7     9.0   \n",
       "2          1           195         Soda        77              7     9.0   \n",
       "3          1           195         Soda        77              7     9.0   \n",
       "4          1           195         Soda        77              7     9.0   \n",
       "\n",
       "  _merge    price_range_loc     busiest_day    busiest_days  \\\n",
       "0   both  Mid-range product  Regularly busy  Regularly busy   \n",
       "1   both  Mid-range product  Regularly busy    Slowest days   \n",
       "2   both  Mid-range product  Regularly busy    Slowest days   \n",
       "3   both  Mid-range product      Least busy    Slowest days   \n",
       "4   both  Mid-range product      Least busy    Slowest days   \n",
       "\n",
       "  busiest_period_of_day  max_order  loyalty_flag  spending spending_flag  \\\n",
       "0        Average orders         10  New customer  6.367797   Low Spender   \n",
       "1        Average orders         10  New customer  6.367797   Low Spender   \n",
       "2           Most orders         10  New customer  6.367797   Low Spender   \n",
       "3        Average orders         10  New customer  6.367797   Low Spender   \n",
       "4           Most orders         10  New customer  6.367797   Low Spender   \n",
       "\n",
       "   frequency         frequency_flag  gender    state  age date_joined  \\\n",
       "0       20.5  Non-frequent customer  Female  Alabama   31   2/17/2019   \n",
       "1       20.5  Non-frequent customer  Female  Alabama   31   2/17/2019   \n",
       "2       20.5  Non-frequent customer  Female  Alabama   31   2/17/2019   \n",
       "3       20.5  Non-frequent customer  Female  Alabama   31   2/17/2019   \n",
       "4       20.5  Non-frequent customer  Female  Alabama   31   2/17/2019   \n",
       "\n",
       "   #_of_dependents marital_status  income region        age_group  \\\n",
       "0                3        married   40423  South  18-34 age group   \n",
       "1                3        married   40423  South  18-34 age group   \n",
       "2                3        married   40423  South  18-34 age group   \n",
       "3                3        married   40423  South  18-34 age group   \n",
       "4                3        married   40423  South  18-34 age group   \n",
       "\n",
       "  income_group goods_profile  \n",
       "0   Low income     Beverages  \n",
       "1   Low income     Beverages  \n",
       "2   Low income     Beverages  \n",
       "3   Low income     Beverages  \n",
       "4   Low income     Beverages  "
      ]
     },
     "execution_count": 16,
     "metadata": {},
     "output_type": "execute_result"
    }
   ],
   "source": [
    "full_merge_PII.head()"
   ]
  },
  {
   "cell_type": "code",
   "execution_count": 18,
   "id": "3797a34c",
   "metadata": {},
   "outputs": [],
   "source": [
    "# check customer loyalty vs spending habits\n",
    "\n",
    "crosstab_spender_loyalty = pd.crosstab(full_merge_PII['spending_flag'], full_merge_PII['loyalty_flag'], dropna = False )"
   ]
  },
  {
   "cell_type": "code",
   "execution_count": 19,
   "id": "03f12f49",
   "metadata": {},
   "outputs": [
    {
     "data": {
      "image/png": "[encoded data removed]",
      "text/plain": [
       "<Figure size 432x288 with 1 Axes>"
      ]
     },
     "metadata": {
      "needs_background": "light"
     },
     "output_type": "display_data"
    }
   ],
   "source": [
    "crosstab_spender_loyalty = crosstab_spender_frequency.plot(kind = 'bar', title = 'Customer loyalty vs spending habits')"
   ]
  },
  {
   "cell_type": "code",
   "execution_count": 20,
   "id": "9506c9c3",
   "metadata": {},
   "outputs": [],
   "source": [
    "# export visualization\n",
    "\n",
    "crosstab_spender_loyalty.figure.savefig(os.path.join(path, '04 Analysis','Visualizations', 'crosstab_spender_loyalty.png'))"
   ]
  },
  {
   "cell_type": "code",
   "execution_count": 33,
   "id": "5b186c08",
   "metadata": {},
   "outputs": [],
   "source": [
    "# check spending habits by age and marital status\n",
    "\n",
    "crosstab_age_spending = pd.crosstab(full_merge_PII['age_group'], full_merge_PII['spending_flag'], dropna = False )"
   ]
  },
  {
   "cell_type": "code",
   "execution_count": 34,
   "id": "293b9838",
   "metadata": {},
   "outputs": [
    {
     "data": {
      "image/png": "[encoded data removed]",
      "text/plain": [
       "<Figure size 432x288 with 1 Axes>"
      ]
     },
     "metadata": {
      "needs_background": "light"
     },
     "output_type": "display_data"
    }
   ],
   "source": [
    "crosstab_age_spending = crosstab_age_spending.plot(kind = 'bar', title = 'Customer age vs spending habits')"
   ]
  },
  {
   "cell_type": "code",
   "execution_count": 35,
   "id": "e35f7217",
   "metadata": {},
   "outputs": [],
   "source": [
    "# export visualization\n",
    "\n",
    "crosstab_age_spending.figure.savefig(os.path.join(path, '04 Analysis','Visualizations', 'crosstab_age_spend.png'))"
   ]
  },
  {
   "cell_type": "code",
   "execution_count": 36,
   "id": "b1a5cc35",
   "metadata": {},
   "outputs": [],
   "source": [
    "crosstab_marital_spending = pd.crosstab(full_merge_PII['marital_status'], full_merge_PII['spending_flag'], dropna = False )"
   ]
  },
  {
   "cell_type": "code",
   "execution_count": 37,
   "id": "cd5c8786",
   "metadata": {},
   "outputs": [
    {
     "data": {
      "image/png": "[encoded data removed]",
      "text/plain": [
       "<Figure size 432x288 with 1 Axes>"
      ]
     },
     "metadata": {
      "needs_background": "light"
     },
     "output_type": "display_data"
    }
   ],
   "source": [
    "crosstab_marital_spending = crosstab_marital_spending.plot(kind = 'bar', title = 'Customer family status vs spending habits')"
   ]
  },
  {
   "cell_type": "code",
   "execution_count": 38,
   "id": "57b560a6",
   "metadata": {},
   "outputs": [],
   "source": [
    "# export visualization\n",
    "\n",
    "crosstab_marital_spending.figure.savefig(os.path.join(path, '04 Analysis','Visualizations', 'crosstab_marital_spend.png'))"
   ]
  },
  {
   "cell_type": "code",
   "execution_count": 40,
   "id": "6e2b2f0d",
   "metadata": {},
   "outputs": [],
   "source": [
    "# age vs price \n",
    "\n",
    "crosstab_age_price = pd.crosstab(full_merge_PII['age_group'], full_merge_PII['price_range_loc'], dropna = False )"
   ]
  },
  {
   "cell_type": "code",
   "execution_count": 41,
   "id": "bc1bbf7c",
   "metadata": {},
   "outputs": [
    {
     "data": {
      "image/png": "[encoded data removed]",
      "text/plain": [
       "<Figure size 432x288 with 1 Axes>"
      ]
     },
     "metadata": {
      "needs_background": "light"
     },
     "output_type": "display_data"
    }
   ],
   "source": [
    "crosstab_age_price = crosstab_age_price.plot(kind = 'bar', title = 'Customer age vs prices')"
   ]
  },
  {
   "cell_type": "code",
   "execution_count": 43,
   "id": "bb5b5b73",
   "metadata": {},
   "outputs": [],
   "source": [
    "# export visualization\n",
    "\n",
    "crosstab_age_price.figure.savefig(os.path.join(path, '04 Analysis','Visualizations', 'crosstab_age_price.png'))"
   ]
  },
  {
   "cell_type": "code",
   "execution_count": 45,
   "id": "119652b2",
   "metadata": {},
   "outputs": [],
   "source": [
    "# income vs price \n",
    "\n",
    "crosstab_income_price = pd.crosstab(full_merge_PII['income_group'], full_merge_PII['price_range_loc'], dropna = False )"
   ]
  },
  {
   "cell_type": "code",
   "execution_count": 46,
   "id": "24945793",
   "metadata": {},
   "outputs": [
    {
     "data": {
      "image/png": "[encoded data removed]",
      "text/plain": [
       "<Figure size 432x288 with 1 Axes>"
      ]
     },
     "metadata": {
      "needs_background": "light"
     },
     "output_type": "display_data"
    }
   ],
   "source": [
    "crosstab_income_price = crosstab_income_price.plot(kind = 'bar', title = 'Customer income vs prices')"
   ]
  },
  {
   "cell_type": "code",
   "execution_count": 47,
   "id": "c9b09df7",
   "metadata": {},
   "outputs": [],
   "source": [
    "# export visualization\n",
    "\n",
    "crosstab_income_price.figure.savefig(os.path.join(path, '04 Analysis','Visualizations', 'crosstab_income_price.png'))"
   ]
  },
  {
   "cell_type": "code",
   "execution_count": 49,
   "id": "2fd42dbc",
   "metadata": {},
   "outputs": [],
   "source": [
    "# age vs frequency\n",
    "\n",
    "crosstab_age_frequency = pd.crosstab(full_merge_PII['age_group'], full_merge_PII['frequency_flag'], dropna = False )"
   ]
  },
  {
   "cell_type": "code",
   "execution_count": 50,
   "id": "75964753",
   "metadata": {},
   "outputs": [
    {
     "data": {
      "image/png": "[encoded data removed]",
      "text/plain": [
       "<Figure size 432x288 with 1 Axes>"
      ]
     },
     "metadata": {
      "needs_background": "light"
     },
     "output_type": "display_data"
    }
   ],
   "source": [
    "crosstab_age_frequency = crosstab_age_frequency.plot(kind = 'bar', title = 'Customer age vs order frequency')"
   ]
  },
  {
   "cell_type": "code",
   "execution_count": 51,
   "id": "b58bac2f",
   "metadata": {},
   "outputs": [],
   "source": [
    "# export visualization\n",
    "\n",
    "crosstab_age_frequency.figure.savefig(os.path.join(path, '04 Analysis','Visualizations', 'crosstab_age_frequency.png'))"
   ]
  },
  {
   "cell_type": "code",
   "execution_count": 52,
   "id": "ea5feebe",
   "metadata": {},
   "outputs": [],
   "source": [
    "# income vs frequency\n",
    "\n",
    "crosstab_income_frequency = pd.crosstab(full_merge_PII['income_group'], full_merge_PII['frequency_flag'], dropna = False )"
   ]
  },
  {
   "cell_type": "code",
   "execution_count": 53,
   "id": "dfbc947e",
   "metadata": {},
   "outputs": [
    {
     "data": {
      "image/png": "[encoded data removed]",
      "text/plain": [
       "<Figure size 432x288 with 1 Axes>"
      ]
     },
     "metadata": {
      "needs_background": "light"
     },
     "output_type": "display_data"
    }
   ],
   "source": [
    "crosstab_income_frequency = crosstab_income_frequency.plot(kind = 'bar', title = 'Customer income vs order frequency')"
   ]
  },
  {
   "cell_type": "code",
   "execution_count": 54,
   "id": "893fd9de",
   "metadata": {},
   "outputs": [],
   "source": [
    "# export visualization\n",
    "\n",
    "crosstab_income_frequency.figure.savefig(os.path.join(path, '04 Analysis','Visualizations', 'crosstab_incom_frequency.png'))"
   ]
  },
  {
   "cell_type": "code",
   "execution_count": 55,
   "id": "97cd5ab0",
   "metadata": {},
   "outputs": [],
   "source": [
    "# age vs goods profile\n",
    "\n",
    "crosstab_age_goods = pd.crosstab(full_merge_PII['age_group'], full_merge_PII['goods_profile'], dropna = False )"
   ]
  },
  {
   "cell_type": "code",
   "execution_count": 56,
   "id": "ac9655a0",
   "metadata": {},
   "outputs": [
    {
     "data": {
      "image/png": "[encoded data removed]",
      "text/plain": [
       "<Figure size 432x288 with 1 Axes>"
      ]
     },
     "metadata": {
      "needs_background": "light"
     },
     "output_type": "display_data"
    }
   ],
   "source": [
    "crosstab_age_goods = crosstab_age_goods.plot(kind = 'bar', title = 'Customer age vs goods profile')"
   ]
  },
  {
   "cell_type": "code",
   "execution_count": 57,
   "id": "3be14c5d",
   "metadata": {},
   "outputs": [],
   "source": [
    "# export visualization\n",
    "\n",
    "crosstab_age_goods.figure.savefig(os.path.join(path, '04 Analysis','Visualizations', 'crosstab_age_goods.png'))"
   ]
  },
  {
   "cell_type": "code",
   "execution_count": 58,
   "id": "ca5b8d81",
   "metadata": {},
   "outputs": [],
   "source": [
    "# income vs goods profile\n",
    "\n",
    "crosstab_income_goods = pd.crosstab(full_merge_PII['income_group'], full_merge_PII['goods_profile'], dropna = False )"
   ]
  },
  {
   "cell_type": "code",
   "execution_count": 59,
   "id": "79e4214e",
   "metadata": {},
   "outputs": [
    {
     "data": {
      "image/png": "[encoded data removed]",
      "text/plain": [
       "<Figure size 432x288 with 1 Axes>"
      ]
     },
     "metadata": {
      "needs_background": "light"
     },
     "output_type": "display_data"
    }
   ],
   "source": [
    "crosstab_income_goods = crosstab_income_goods.plot(kind = 'bar', title = 'Customer income vs goods profile')"
   ]
  },
  {
   "cell_type": "code",
   "execution_count": 60,
   "id": "c24a3800",
   "metadata": {},
   "outputs": [],
   "source": [
    "# export visualization\n",
    "\n",
    "crosstab_income_goods.figure.savefig(os.path.join(path, '04 Analysis','Visualizations', 'crosstab_income_goods.png'))"
   ]
  },
  {
   "cell_type": "code",
   "execution_count": null,
   "id": "c44dfb28",
   "metadata": {},
   "outputs": [],
   "source": []
  }
 ],
 "metadata": {
  "kernelspec": {
   "display_name": "Python 3 (ipykernel)",
   "language": "python",
   "name": "python3"
  },
  "language_info": {
   "codemirror_mode": {
    "name": "ipython",
    "version": 3
   },
   "file_extension": ".py",
   "mimetype": "text/x-python",
   "name": "python",
   "nbconvert_exporter": "python",
   "pygments_lexer": "ipython3",
   "version": "3.9.12"
  }
 },
 "nbformat": 4,
 "nbformat_minor": 5
}
