{
 "cells": [
  {
   "cell_type": "markdown",
   "id": "4d133543",
   "metadata": {},
   "source": [
    "# Importing libraries and data"
   ]
  },
  {
   "cell_type": "code",
   "execution_count": 1,
   "id": "efb2db5e",
   "metadata": {},
   "outputs": [],
   "source": [
    "# import libraries\n",
    "\n",
    "import pandas as pd\n",
    "import numpy as np\n",
    "import os\n",
    "import matplotlib.pyplot as plt\n",
    "import seaborn as sns\n",
    "import scipy"
   ]
  },
  {
   "cell_type": "code",
   "execution_count": 2,
   "id": "495a6a8e",
   "metadata": {},
   "outputs": [],
   "source": [
    "# define path\n",
    "\n",
    "path = r'/Users/martyna/Documents/CF Data Analysis/Data Immersion/Acheivement 4/Instacart Basket Analysis 6.22'"
   ]
  },
  {
   "cell_type": "code",
   "execution_count": 3,
   "id": "d4dda512",
   "metadata": {},
   "outputs": [],
   "source": [
    "# import data\n",
    "\n",
    "full_merge = pd.read_pickle(os.path.join(path, '02 Data', 'Prepared Data', 'full_merge.pkl'))"
   ]
  },
  {
   "cell_type": "markdown",
   "id": "a76ae089",
   "metadata": {},
   "source": [
    "# 2. Address PII"
   ]
  },
  {
   "cell_type": "code",
   "execution_count": 4,
   "id": "9bdcc016",
   "metadata": {},
   "outputs": [
    {
     "data": {
      "text/html": [
       "<div>\n",
       "<style scoped>\n",
       "    .dataframe tbody tr th:only-of-type {\n",
       "        vertical-align: middle;\n",
       "    }\n",
       "\n",
       "    .dataframe tbody tr th {\n",
       "        vertical-align: top;\n",
       "    }\n",
       "\n",
       "    .dataframe thead th {\n",
       "        text-align: right;\n",
       "    }\n",
       "</style>\n",
       "<table border=\"1\" class=\"dataframe\">\n",
       "  <thead>\n",
       "    <tr style=\"text-align: right;\">\n",
       "      <th></th>\n",
       "      <th>order_id</th>\n",
       "      <th>user_id</th>\n",
       "      <th>order_number</th>\n",
       "      <th>orders_days_of_week</th>\n",
       "      <th>order_hour_of_day</th>\n",
       "      <th>days_since_last_order</th>\n",
       "      <th>new_customer</th>\n",
       "      <th>product_id</th>\n",
       "      <th>add_to_cart_order</th>\n",
       "      <th>reordered</th>\n",
       "      <th>...</th>\n",
       "      <th>frequency_flag</th>\n",
       "      <th>first_name</th>\n",
       "      <th>last_name</th>\n",
       "      <th>gender</th>\n",
       "      <th>state</th>\n",
       "      <th>age</th>\n",
       "      <th>date_joined</th>\n",
       "      <th>#_of_dependents</th>\n",
       "      <th>marital_status</th>\n",
       "      <th>income</th>\n",
       "    </tr>\n",
       "  </thead>\n",
       "  <tbody>\n",
       "    <tr>\n",
       "      <th>0</th>\n",
       "      <td>2539329</td>\n",
       "      <td>1</td>\n",
       "      <td>1</td>\n",
       "      <td>2</td>\n",
       "      <td>8</td>\n",
       "      <td>NaN</td>\n",
       "      <td>True</td>\n",
       "      <td>196</td>\n",
       "      <td>1</td>\n",
       "      <td>0</td>\n",
       "      <td>...</td>\n",
       "      <td>Non-frequent customer</td>\n",
       "      <td>Linda</td>\n",
       "      <td>Nguyen</td>\n",
       "      <td>Female</td>\n",
       "      <td>Alabama</td>\n",
       "      <td>31</td>\n",
       "      <td>2/17/2019</td>\n",
       "      <td>3</td>\n",
       "      <td>married</td>\n",
       "      <td>40423</td>\n",
       "    </tr>\n",
       "    <tr>\n",
       "      <th>1</th>\n",
       "      <td>2398795</td>\n",
       "      <td>1</td>\n",
       "      <td>2</td>\n",
       "      <td>3</td>\n",
       "      <td>7</td>\n",
       "      <td>15.0</td>\n",
       "      <td>False</td>\n",
       "      <td>196</td>\n",
       "      <td>1</td>\n",
       "      <td>1</td>\n",
       "      <td>...</td>\n",
       "      <td>Non-frequent customer</td>\n",
       "      <td>Linda</td>\n",
       "      <td>Nguyen</td>\n",
       "      <td>Female</td>\n",
       "      <td>Alabama</td>\n",
       "      <td>31</td>\n",
       "      <td>2/17/2019</td>\n",
       "      <td>3</td>\n",
       "      <td>married</td>\n",
       "      <td>40423</td>\n",
       "    </tr>\n",
       "    <tr>\n",
       "      <th>2</th>\n",
       "      <td>473747</td>\n",
       "      <td>1</td>\n",
       "      <td>3</td>\n",
       "      <td>3</td>\n",
       "      <td>12</td>\n",
       "      <td>21.0</td>\n",
       "      <td>False</td>\n",
       "      <td>196</td>\n",
       "      <td>1</td>\n",
       "      <td>1</td>\n",
       "      <td>...</td>\n",
       "      <td>Non-frequent customer</td>\n",
       "      <td>Linda</td>\n",
       "      <td>Nguyen</td>\n",
       "      <td>Female</td>\n",
       "      <td>Alabama</td>\n",
       "      <td>31</td>\n",
       "      <td>2/17/2019</td>\n",
       "      <td>3</td>\n",
       "      <td>married</td>\n",
       "      <td>40423</td>\n",
       "    </tr>\n",
       "    <tr>\n",
       "      <th>3</th>\n",
       "      <td>2254736</td>\n",
       "      <td>1</td>\n",
       "      <td>4</td>\n",
       "      <td>4</td>\n",
       "      <td>7</td>\n",
       "      <td>29.0</td>\n",
       "      <td>False</td>\n",
       "      <td>196</td>\n",
       "      <td>1</td>\n",
       "      <td>1</td>\n",
       "      <td>...</td>\n",
       "      <td>Non-frequent customer</td>\n",
       "      <td>Linda</td>\n",
       "      <td>Nguyen</td>\n",
       "      <td>Female</td>\n",
       "      <td>Alabama</td>\n",
       "      <td>31</td>\n",
       "      <td>2/17/2019</td>\n",
       "      <td>3</td>\n",
       "      <td>married</td>\n",
       "      <td>40423</td>\n",
       "    </tr>\n",
       "    <tr>\n",
       "      <th>4</th>\n",
       "      <td>431534</td>\n",
       "      <td>1</td>\n",
       "      <td>5</td>\n",
       "      <td>4</td>\n",
       "      <td>15</td>\n",
       "      <td>28.0</td>\n",
       "      <td>False</td>\n",
       "      <td>196</td>\n",
       "      <td>1</td>\n",
       "      <td>1</td>\n",
       "      <td>...</td>\n",
       "      <td>Non-frequent customer</td>\n",
       "      <td>Linda</td>\n",
       "      <td>Nguyen</td>\n",
       "      <td>Female</td>\n",
       "      <td>Alabama</td>\n",
       "      <td>31</td>\n",
       "      <td>2/17/2019</td>\n",
       "      <td>3</td>\n",
       "      <td>married</td>\n",
       "      <td>40423</td>\n",
       "    </tr>\n",
       "  </tbody>\n",
       "</table>\n",
       "<p>5 rows × 35 columns</p>\n",
       "</div>"
      ],
      "text/plain": [
       "   order_id  user_id  order_number  orders_days_of_week  order_hour_of_day  \\\n",
       "0   2539329        1             1                    2                  8   \n",
       "1   2398795        1             2                    3                  7   \n",
       "2    473747        1             3                    3                 12   \n",
       "3   2254736        1             4                    4                  7   \n",
       "4    431534        1             5                    4                 15   \n",
       "\n",
       "   days_since_last_order  new_customer  product_id  add_to_cart_order  \\\n",
       "0                    NaN          True         196                  1   \n",
       "1                   15.0         False         196                  1   \n",
       "2                   21.0         False         196                  1   \n",
       "3                   29.0         False         196                  1   \n",
       "4                   28.0         False         196                  1   \n",
       "\n",
       "   reordered  ...         frequency_flag first_name  last_name  gender  \\\n",
       "0          0  ...  Non-frequent customer      Linda     Nguyen  Female   \n",
       "1          1  ...  Non-frequent customer      Linda     Nguyen  Female   \n",
       "2          1  ...  Non-frequent customer      Linda     Nguyen  Female   \n",
       "3          1  ...  Non-frequent customer      Linda     Nguyen  Female   \n",
       "4          1  ...  Non-frequent customer      Linda     Nguyen  Female   \n",
       "\n",
       "     state age date_joined #_of_dependents marital_status income  \n",
       "0  Alabama  31   2/17/2019               3        married  40423  \n",
       "1  Alabama  31   2/17/2019               3        married  40423  \n",
       "2  Alabama  31   2/17/2019               3        married  40423  \n",
       "3  Alabama  31   2/17/2019               3        married  40423  \n",
       "4  Alabama  31   2/17/2019               3        married  40423  \n",
       "\n",
       "[5 rows x 35 columns]"
      ]
     },
     "execution_count": 4,
     "metadata": {},
     "output_type": "execute_result"
    }
   ],
   "source": [
    "full_merge.head()"
   ]
  },
  {
   "cell_type": "markdown",
   "id": "46b76211",
   "metadata": {},
   "source": [
    "The data set contains first and last names which are considered PII."
   ]
  },
  {
   "cell_type": "code",
   "execution_count": 5,
   "id": "c2051990",
   "metadata": {},
   "outputs": [],
   "source": [
    "full_merge_PII = full_merge.drop(columns = ['first_name', 'last_name'])"
   ]
  },
  {
   "cell_type": "code",
   "execution_count": 6,
   "id": "9709a2f7",
   "metadata": {},
   "outputs": [
    {
     "data": {
      "text/html": [
       "<div>\n",
       "<style scoped>\n",
       "    .dataframe tbody tr th:only-of-type {\n",
       "        vertical-align: middle;\n",
       "    }\n",
       "\n",
       "    .dataframe tbody tr th {\n",
       "        vertical-align: top;\n",
       "    }\n",
       "\n",
       "    .dataframe thead th {\n",
       "        text-align: right;\n",
       "    }\n",
       "</style>\n",
       "<table border=\"1\" class=\"dataframe\">\n",
       "  <thead>\n",
       "    <tr style=\"text-align: right;\">\n",
       "      <th></th>\n",
       "      <th>order_id</th>\n",
       "      <th>user_id</th>\n",
       "      <th>order_number</th>\n",
       "      <th>orders_days_of_week</th>\n",
       "      <th>order_hour_of_day</th>\n",
       "      <th>days_since_last_order</th>\n",
       "      <th>new_customer</th>\n",
       "      <th>product_id</th>\n",
       "      <th>add_to_cart_order</th>\n",
       "      <th>reordered</th>\n",
       "      <th>...</th>\n",
       "      <th>spending_flag</th>\n",
       "      <th>frequency</th>\n",
       "      <th>frequency_flag</th>\n",
       "      <th>gender</th>\n",
       "      <th>state</th>\n",
       "      <th>age</th>\n",
       "      <th>date_joined</th>\n",
       "      <th>#_of_dependents</th>\n",
       "      <th>marital_status</th>\n",
       "      <th>income</th>\n",
       "    </tr>\n",
       "  </thead>\n",
       "  <tbody>\n",
       "    <tr>\n",
       "      <th>0</th>\n",
       "      <td>2539329</td>\n",
       "      <td>1</td>\n",
       "      <td>1</td>\n",
       "      <td>2</td>\n",
       "      <td>8</td>\n",
       "      <td>NaN</td>\n",
       "      <td>True</td>\n",
       "      <td>196</td>\n",
       "      <td>1</td>\n",
       "      <td>0</td>\n",
       "      <td>...</td>\n",
       "      <td>Low Spender</td>\n",
       "      <td>20.5</td>\n",
       "      <td>Non-frequent customer</td>\n",
       "      <td>Female</td>\n",
       "      <td>Alabama</td>\n",
       "      <td>31</td>\n",
       "      <td>2/17/2019</td>\n",
       "      <td>3</td>\n",
       "      <td>married</td>\n",
       "      <td>40423</td>\n",
       "    </tr>\n",
       "    <tr>\n",
       "      <th>1</th>\n",
       "      <td>2398795</td>\n",
       "      <td>1</td>\n",
       "      <td>2</td>\n",
       "      <td>3</td>\n",
       "      <td>7</td>\n",
       "      <td>15.0</td>\n",
       "      <td>False</td>\n",
       "      <td>196</td>\n",
       "      <td>1</td>\n",
       "      <td>1</td>\n",
       "      <td>...</td>\n",
       "      <td>Low Spender</td>\n",
       "      <td>20.5</td>\n",
       "      <td>Non-frequent customer</td>\n",
       "      <td>Female</td>\n",
       "      <td>Alabama</td>\n",
       "      <td>31</td>\n",
       "      <td>2/17/2019</td>\n",
       "      <td>3</td>\n",
       "      <td>married</td>\n",
       "      <td>40423</td>\n",
       "    </tr>\n",
       "    <tr>\n",
       "      <th>2</th>\n",
       "      <td>473747</td>\n",
       "      <td>1</td>\n",
       "      <td>3</td>\n",
       "      <td>3</td>\n",
       "      <td>12</td>\n",
       "      <td>21.0</td>\n",
       "      <td>False</td>\n",
       "      <td>196</td>\n",
       "      <td>1</td>\n",
       "      <td>1</td>\n",
       "      <td>...</td>\n",
       "      <td>Low Spender</td>\n",
       "      <td>20.5</td>\n",
       "      <td>Non-frequent customer</td>\n",
       "      <td>Female</td>\n",
       "      <td>Alabama</td>\n",
       "      <td>31</td>\n",
       "      <td>2/17/2019</td>\n",
       "      <td>3</td>\n",
       "      <td>married</td>\n",
       "      <td>40423</td>\n",
       "    </tr>\n",
       "    <tr>\n",
       "      <th>3</th>\n",
       "      <td>2254736</td>\n",
       "      <td>1</td>\n",
       "      <td>4</td>\n",
       "      <td>4</td>\n",
       "      <td>7</td>\n",
       "      <td>29.0</td>\n",
       "      <td>False</td>\n",
       "      <td>196</td>\n",
       "      <td>1</td>\n",
       "      <td>1</td>\n",
       "      <td>...</td>\n",
       "      <td>Low Spender</td>\n",
       "      <td>20.5</td>\n",
       "      <td>Non-frequent customer</td>\n",
       "      <td>Female</td>\n",
       "      <td>Alabama</td>\n",
       "      <td>31</td>\n",
       "      <td>2/17/2019</td>\n",
       "      <td>3</td>\n",
       "      <td>married</td>\n",
       "      <td>40423</td>\n",
       "    </tr>\n",
       "    <tr>\n",
       "      <th>4</th>\n",
       "      <td>431534</td>\n",
       "      <td>1</td>\n",
       "      <td>5</td>\n",
       "      <td>4</td>\n",
       "      <td>15</td>\n",
       "      <td>28.0</td>\n",
       "      <td>False</td>\n",
       "      <td>196</td>\n",
       "      <td>1</td>\n",
       "      <td>1</td>\n",
       "      <td>...</td>\n",
       "      <td>Low Spender</td>\n",
       "      <td>20.5</td>\n",
       "      <td>Non-frequent customer</td>\n",
       "      <td>Female</td>\n",
       "      <td>Alabama</td>\n",
       "      <td>31</td>\n",
       "      <td>2/17/2019</td>\n",
       "      <td>3</td>\n",
       "      <td>married</td>\n",
       "      <td>40423</td>\n",
       "    </tr>\n",
       "  </tbody>\n",
       "</table>\n",
       "<p>5 rows × 33 columns</p>\n",
       "</div>"
      ],
      "text/plain": [
       "   order_id  user_id  order_number  orders_days_of_week  order_hour_of_day  \\\n",
       "0   2539329        1             1                    2                  8   \n",
       "1   2398795        1             2                    3                  7   \n",
       "2    473747        1             3                    3                 12   \n",
       "3   2254736        1             4                    4                  7   \n",
       "4    431534        1             5                    4                 15   \n",
       "\n",
       "   days_since_last_order  new_customer  product_id  add_to_cart_order  \\\n",
       "0                    NaN          True         196                  1   \n",
       "1                   15.0         False         196                  1   \n",
       "2                   21.0         False         196                  1   \n",
       "3                   29.0         False         196                  1   \n",
       "4                   28.0         False         196                  1   \n",
       "\n",
       "   reordered  ...  spending_flag frequency         frequency_flag  gender  \\\n",
       "0          0  ...    Low Spender      20.5  Non-frequent customer  Female   \n",
       "1          1  ...    Low Spender      20.5  Non-frequent customer  Female   \n",
       "2          1  ...    Low Spender      20.5  Non-frequent customer  Female   \n",
       "3          1  ...    Low Spender      20.5  Non-frequent customer  Female   \n",
       "4          1  ...    Low Spender      20.5  Non-frequent customer  Female   \n",
       "\n",
       "     state age date_joined #_of_dependents marital_status income  \n",
       "0  Alabama  31   2/17/2019               3        married  40423  \n",
       "1  Alabama  31   2/17/2019               3        married  40423  \n",
       "2  Alabama  31   2/17/2019               3        married  40423  \n",
       "3  Alabama  31   2/17/2019               3        married  40423  \n",
       "4  Alabama  31   2/17/2019               3        married  40423  \n",
       "\n",
       "[5 rows x 33 columns]"
      ]
     },
     "execution_count": 6,
     "metadata": {},
     "output_type": "execute_result"
    }
   ],
   "source": [
    "full_merge_PII.head()"
   ]
  },
  {
   "cell_type": "markdown",
   "id": "b37be235",
   "metadata": {},
   "source": [
    "# 3. Create a regional segmentation of the data"
   ]
  },
  {
   "cell_type": "markdown",
   "id": "7a2afce7",
   "metadata": {},
   "source": [
    "3.1 Create regions"
   ]
  },
  {
   "cell_type": "code",
   "execution_count": 8,
   "id": "4d0eb8dd",
   "metadata": {},
   "outputs": [],
   "source": [
    "# define the function\n",
    "\n",
    "result = []\n",
    "for value in full_merge_PII ['state']:\n",
    "    if (value in ['Maine', 'New Hampshire', 'Vermont', 'Massachusetts', 'Rhode Island', 'Connecticut', 'New York', 'Pennsylvania', 'New Jersey']):\n",
    "        result.append ('Northeast')\n",
    "    elif (value in ['Wisconsin', 'Michigan', 'Illinois', 'Indiana', 'Ohio', 'North Dakota', 'South Dakota', 'Nebraska', 'Kansas', 'Minnesota', 'Iowa', 'Missouri']):\n",
    "        result.append ('Midwest')\n",
    "    elif (value in ['Delaware', 'Maryland', 'District of Columbia', 'Virginia', 'West Virginia', 'North Carolina', 'South Carolina', 'Georgia', 'Florida', 'Kentucky', 'Tennessee', 'Mississippi', 'Alabama']):\n",
    "         result.append ('South')\n",
    "    else: result.append ('West')"
   ]
  },
  {
   "cell_type": "code",
   "execution_count": 9,
   "id": "7bc019a0",
   "metadata": {},
   "outputs": [],
   "source": [
    "# apply the function\n",
    "\n",
    "full_merge_PII['region'] = result"
   ]
  },
  {
   "cell_type": "code",
   "execution_count": 10,
   "id": "957c201b",
   "metadata": {},
   "outputs": [
    {
     "data": {
      "text/plain": [
       "West         10858672\n",
       "South         8226126\n",
       "Midwest       7597325\n",
       "Northeast     5722736\n",
       "Name: region, dtype: int64"
      ]
     },
     "execution_count": 10,
     "metadata": {},
     "output_type": "execute_result"
    }
   ],
   "source": [
    "full_merge_PII['region'].value_counts(dropna = False)"
   ]
  },
  {
   "cell_type": "code",
   "execution_count": 11,
   "id": "76e0e010",
   "metadata": {},
   "outputs": [
    {
     "data": {
      "image/png": "[encoded data removed]",
      "text/plain": [
       "<Figure size 432x288 with 1 Axes>"
      ]
     },
     "metadata": {
      "needs_background": "light"
     },
     "output_type": "display_data"
    }
   ],
   "source": [
    "# region visualization\n",
    "\n",
    "region = full_merge_PII['region'].value_counts().plot.bar(color = 'blue')"
   ]
  },
  {
   "cell_type": "code",
   "execution_count": 12,
   "id": "fab6542d",
   "metadata": {},
   "outputs": [],
   "source": [
    "# exporting visualization\n",
    "\n",
    "region = region.figure.savefig(os.path.join(path, '04 Analysis', 'Visualizations', 'region.png'))"
   ]
  },
  {
   "cell_type": "markdown",
   "id": "98e00ea3",
   "metadata": {},
   "source": [
    "3.2 Determine whether there’s a difference in spending habits between the different U.S. regions"
   ]
  },
  {
   "cell_type": "code",
   "execution_count": 13,
   "id": "571cc91b",
   "metadata": {},
   "outputs": [],
   "source": [
    "crosstab = pd.crosstab(full_merge_PII['region'], full_merge_PII['spending_flag'], dropna = False)"
   ]
  },
  {
   "cell_type": "code",
   "execution_count": 14,
   "id": "9d65aa7f",
   "metadata": {},
   "outputs": [
    {
     "data": {
      "text/html": [
       "<div>\n",
       "<style scoped>\n",
       "    .dataframe tbody tr th:only-of-type {\n",
       "        vertical-align: middle;\n",
       "    }\n",
       "\n",
       "    .dataframe tbody tr th {\n",
       "        vertical-align: top;\n",
       "    }\n",
       "\n",
       "    .dataframe thead th {\n",
       "        text-align: right;\n",
       "    }\n",
       "</style>\n",
       "<table border=\"1\" class=\"dataframe\">\n",
       "  <thead>\n",
       "    <tr style=\"text-align: right;\">\n",
       "      <th>spending_flag</th>\n",
       "      <th>High Spender</th>\n",
       "      <th>Low Spender</th>\n",
       "    </tr>\n",
       "    <tr>\n",
       "      <th>region</th>\n",
       "      <th></th>\n",
       "      <th></th>\n",
       "    </tr>\n",
       "  </thead>\n",
       "  <tbody>\n",
       "    <tr>\n",
       "      <th>Midwest</th>\n",
       "      <td>155975</td>\n",
       "      <td>7441350</td>\n",
       "    </tr>\n",
       "    <tr>\n",
       "      <th>Northeast</th>\n",
       "      <td>108225</td>\n",
       "      <td>5614511</td>\n",
       "    </tr>\n",
       "    <tr>\n",
       "      <th>South</th>\n",
       "      <td>164260</td>\n",
       "      <td>8061866</td>\n",
       "    </tr>\n",
       "    <tr>\n",
       "      <th>West</th>\n",
       "      <td>205785</td>\n",
       "      <td>10652887</td>\n",
       "    </tr>\n",
       "  </tbody>\n",
       "</table>\n",
       "</div>"
      ],
      "text/plain": [
       "spending_flag  High Spender  Low Spender\n",
       "region                                  \n",
       "Midwest              155975      7441350\n",
       "Northeast            108225      5614511\n",
       "South                164260      8061866\n",
       "West                 205785     10652887"
      ]
     },
     "execution_count": 14,
     "metadata": {},
     "output_type": "execute_result"
    }
   ],
   "source": [
    "crosstab"
   ]
  },
  {
   "cell_type": "code",
   "execution_count": 15,
   "id": "3af4e71b",
   "metadata": {},
   "outputs": [
    {
     "data": {
      "image/png": "[encoded data removed]",
      "text/plain": [
       "<Figure size 432x288 with 1 Axes>"
      ]
     },
     "metadata": {
      "needs_background": "light"
     },
     "output_type": "display_data"
    }
   ],
   "source": [
    "crosstab_spending_region = crosstab.plot(kind = 'bar', stacked = True, title = 'Spending by Region')"
   ]
  },
  {
   "cell_type": "code",
   "execution_count": 16,
   "id": "52371c47",
   "metadata": {},
   "outputs": [],
   "source": [
    "# exporting visualization\n",
    "\n",
    "crosstab_spending_region.figure.savefig(os.path.join(path, '04 Analysis','Visualizations', 'crosstab_income_region.png'))"
   ]
  },
  {
   "cell_type": "markdown",
   "id": "8f71e6b1",
   "metadata": {},
   "source": [
    "# 4. Create an exclusion flag for low-activity customers"
   ]
  },
  {
   "cell_type": "code",
   "execution_count": 17,
   "id": "63bf5ab4",
   "metadata": {},
   "outputs": [
    {
     "data": {
      "text/plain": [
       "99    1171333\n",
       "8      811843\n",
       "6      811396\n",
       "9      810213\n",
       "7      803979\n",
       "       ...   \n",
       "97      44949\n",
       "98      44587\n",
       "96      40453\n",
       "2           6\n",
       "1           5\n",
       "Name: max_order, Length: 99, dtype: int64"
      ]
     },
     "execution_count": 17,
     "metadata": {},
     "output_type": "execute_result"
    }
   ],
   "source": [
    "full_merge_PII['max_order'].value_counts(dropna = False)"
   ]
  },
  {
   "cell_type": "code",
   "execution_count": 18,
   "id": "9ce35718",
   "metadata": {},
   "outputs": [],
   "source": [
    "# create a exclusion flag for low activity customer\n",
    "\n",
    "full_merge_PII.loc[full_merge_PII['max_order'] < 5, 'exclusion_flag'] = 'Low activity customer'"
   ]
  },
  {
   "cell_type": "code",
   "execution_count": 19,
   "id": "c5a6c4e0",
   "metadata": {},
   "outputs": [],
   "source": [
    "# create a exclusion flag for normal activity customer\n",
    "\n",
    "full_merge_PII.loc[full_merge_PII['max_order'] >= 5, 'exclusion_flag'] = 'Normal activity customer'"
   ]
  },
  {
   "cell_type": "code",
   "execution_count": 20,
   "id": "c744953f",
   "metadata": {},
   "outputs": [
    {
     "data": {
      "text/plain": [
       "Normal activity customer    30964564\n",
       "Low activity customer        1440295\n",
       "Name: exclusion_flag, dtype: int64"
      ]
     },
     "execution_count": 20,
     "metadata": {},
     "output_type": "execute_result"
    }
   ],
   "source": [
    "full_merge_PII['exclusion_flag'].value_counts (dropna = False)"
   ]
  },
  {
   "cell_type": "code",
   "execution_count": 21,
   "id": "c50ad3fb",
   "metadata": {},
   "outputs": [],
   "source": [
    "# create dataset for low activity customer\n",
    "\n",
    "df_low_activity = full_merge_PII[full_merge_PII['exclusion_flag'] =='Low activity customer']"
   ]
  },
  {
   "cell_type": "code",
   "execution_count": 22,
   "id": "69b5dcc1",
   "metadata": {},
   "outputs": [],
   "source": [
    "# create dataset for normal activity customer\n",
    "\n",
    "df_normal_activity = full_merge_PII[full_merge_PII['exclusion_flag'] =='Normal activity customer']"
   ]
  },
  {
   "cell_type": "code",
   "execution_count": 23,
   "id": "ba0e3c19",
   "metadata": {},
   "outputs": [],
   "source": [
    "# Export the low activity customer dataset\n",
    "\n",
    "df_low_activity.to_pickle(os.path.join(path,'02 Data','Prepared Data','low_activity_customer.pkl'))"
   ]
  },
  {
   "cell_type": "code",
   "execution_count": 24,
   "id": "1aa925a5",
   "metadata": {},
   "outputs": [],
   "source": [
    "# Export the normal activity customer dataset\n",
    "\n",
    "df_normal_activity.to_pickle(os.path.join(path,'02 Data','Prepared Data','normal_activity_customer.pkl'))"
   ]
  },
  {
   "cell_type": "markdown",
   "id": "e2e2f515",
   "metadata": {},
   "source": [
    "# 5. Create a profiling variable based on age, income, certain goods in the “department_id” column, and number of dependents"
   ]
  },
  {
   "cell_type": "markdown",
   "id": "a7bb8683",
   "metadata": {},
   "source": [
    "## Age"
   ]
  },
  {
   "cell_type": "code",
   "execution_count": 25,
   "id": "943727a3",
   "metadata": {},
   "outputs": [
    {
     "data": {
      "text/plain": [
       "18"
      ]
     },
     "execution_count": 25,
     "metadata": {},
     "output_type": "execute_result"
    }
   ],
   "source": [
    "# check minimum age\n",
    "\n",
    "full_merge_PII.age.min()#"
   ]
  },
  {
   "cell_type": "code",
   "execution_count": 26,
   "id": "73d3ddd3",
   "metadata": {},
   "outputs": [
    {
     "data": {
      "text/plain": [
       "81"
      ]
     },
     "execution_count": 26,
     "metadata": {},
     "output_type": "execute_result"
    }
   ],
   "source": [
    "# check max age \n",
    "\n",
    "full_merge_PII.age.max()"
   ]
  },
  {
   "cell_type": "code",
   "execution_count": 28,
   "id": "c004bcd2",
   "metadata": {},
   "outputs": [],
   "source": [
    "# create a function for age group\n",
    "\n",
    "age_group = []\n",
    "\n",
    "for value in full_merge_PII ['age']:\n",
    "    if (value > 18) & (value <= 34):\n",
    "        age_group.append('18-34 age group')\n",
    "    elif (value > 35) & (value <= 50):\n",
    "        age_group.append ('35-50 age group')\n",
    "    elif (value > 51) & (value <= 69):\n",
    "        age_group.append('51-69 age group')\n",
    "    else: age_group.append('70-81 age group')"
   ]
  },
  {
   "cell_type": "code",
   "execution_count": 29,
   "id": "91282d9e",
   "metadata": {},
   "outputs": [],
   "source": [
    "# apply the function\n",
    "\n",
    "full_merge_PII['age_group'] = age_group"
   ]
  },
  {
   "cell_type": "code",
   "execution_count": 30,
   "id": "28bc7b2d",
   "metadata": {},
   "outputs": [
    {
     "data": {
      "text/plain": [
       "51-69 age group    9047702\n",
       "18-34 age group    8127181\n",
       "35-50 age group    7615806\n",
       "70-81 age group    7614170\n",
       "Name: age_group, dtype: int64"
      ]
     },
     "execution_count": 30,
     "metadata": {},
     "output_type": "execute_result"
    }
   ],
   "source": [
    "full_merge_PII['age_group'].value_counts(dropna = False)"
   ]
  },
  {
   "cell_type": "code",
   "execution_count": 31,
   "id": "9d1f9315",
   "metadata": {},
   "outputs": [
    {
     "data": {
      "image/png": "[encoded data removed]",
      "text/plain": [
       "<Figure size 432x288 with 1 Axes>"
      ]
     },
     "metadata": {
      "needs_background": "light"
     },
     "output_type": "display_data"
    }
   ],
   "source": [
    "# age group visualization\n",
    "\n",
    "bar_age_group = full_merge_PII['age_group'].value_counts().sort_index().plot.bar(ylabel = 'Count (million)')"
   ]
  },
  {
   "cell_type": "code",
   "execution_count": 32,
   "id": "9be70ad3",
   "metadata": {},
   "outputs": [],
   "source": [
    "# exporting visualiztion\n",
    "\n",
    "bar_age_group.figure.savefig(os.path.join(path, '04 Analysis','Visualizations', 'bar_age_group.png'))"
   ]
  },
  {
   "cell_type": "code",
   "execution_count": 33,
   "id": "3ba744b9",
   "metadata": {},
   "outputs": [],
   "source": [
    "# spending by age group\n",
    "\n",
    "crosstab_age_spending = pd.crosstab(full_merge_PII['age_group'], full_merge_PII['spending_flag'], dropna = False )"
   ]
  },
  {
   "cell_type": "code",
   "execution_count": 34,
   "id": "ec6f5278",
   "metadata": {},
   "outputs": [
    {
     "data": {
      "image/png": "[encoded data removed]",
      "text/plain": [
       "<Figure size 432x288 with 1 Axes>"
      ]
     },
     "metadata": {
      "needs_background": "light"
     },
     "output_type": "display_data"
    }
   ],
   "source": [
    "crosstab_age_spending = crosstab_age_spending.plot(kind = 'bar', stacked = False, title = 'Spending by age group')"
   ]
  },
  {
   "cell_type": "code",
   "execution_count": 35,
   "id": "44aedef2",
   "metadata": {},
   "outputs": [],
   "source": [
    "# Exporting visualiztion\n",
    "\n",
    "crosstab_age_spending.figure.savefig(os.path.join(path, '04 Analysis','Visualizations', 'crosstab_age_spending.png'))"
   ]
  },
  {
   "cell_type": "markdown",
   "id": "53d0016e",
   "metadata": {},
   "source": [
    "## Income"
   ]
  },
  {
   "cell_type": "code",
   "execution_count": 36,
   "id": "ee618629",
   "metadata": {},
   "outputs": [
    {
     "data": {
      "text/plain": [
       "25903"
      ]
     },
     "execution_count": 36,
     "metadata": {},
     "output_type": "execute_result"
    }
   ],
   "source": [
    "# check minimum income\n",
    "\n",
    "full_merge_PII.income.min()"
   ]
  },
  {
   "cell_type": "code",
   "execution_count": 37,
   "id": "9d94d5f3",
   "metadata": {},
   "outputs": [
    {
     "data": {
      "text/plain": [
       "593901"
      ]
     },
     "execution_count": 37,
     "metadata": {},
     "output_type": "execute_result"
    }
   ],
   "source": [
    "# check maximum income\n",
    "\n",
    "full_merge_PII.income.max()"
   ]
  },
  {
   "cell_type": "code",
   "execution_count": 38,
   "id": "a3abcf40",
   "metadata": {},
   "outputs": [],
   "source": [
    "# create a function for income groups\n",
    "\n",
    "income_group = []\n",
    "\n",
    "for value in full_merge_PII ['income']:\n",
    "    if (value < 20000):\n",
    "        income_group.append('Below or near poverty level')\n",
    "    elif (value >= 20000) & (value <= 44999):\n",
    "        income_group.append('Low income')\n",
    "    elif (value >= 45000) & (value <= 139999):\n",
    "        income_group.append('Middle class')\n",
    "    elif (value >= 140000) & (value <= 149999):\n",
    "        income_group.append('Upper middle class')\n",
    "    elif (value >= 150000) & (value <= 199999):\n",
    "        income_group.append('High income')\n",
    "    else: income_group.append('Highest income')"
   ]
  },
  {
   "cell_type": "code",
   "execution_count": 39,
   "id": "0729d63a",
   "metadata": {},
   "outputs": [],
   "source": [
    "# apply income group\n",
    "\n",
    "full_merge_PII['income_group'] = income_group"
   ]
  },
  {
   "cell_type": "code",
   "execution_count": 40,
   "id": "bbd749b4",
   "metadata": {},
   "outputs": [
    {
     "data": {
      "text/plain": [
       "Middle class          23833922\n",
       "High income            3793138\n",
       "Low income             2694896\n",
       "Upper middle class     1824460\n",
       "Highest income          258443\n",
       "Name: income_group, dtype: int64"
      ]
     },
     "execution_count": 40,
     "metadata": {},
     "output_type": "execute_result"
    }
   ],
   "source": [
    "full_merge_PII['income_group'].value_counts(dropna = False)"
   ]
  },
  {
   "cell_type": "code",
   "execution_count": 41,
   "id": "dcf2b186",
   "metadata": {},
   "outputs": [
    {
     "data": {
      "image/png": "[encoded data removed]",
      "text/plain": [
       "<Figure size 432x288 with 1 Axes>"
      ]
     },
     "metadata": {
      "needs_background": "light"
     },
     "output_type": "display_data"
    }
   ],
   "source": [
    "# income group visualization\n",
    "\n",
    "bar_income = full_merge_PII['income_group'].value_counts().plot.bar(ylabel = 'Count (millions)')"
   ]
  },
  {
   "cell_type": "code",
   "execution_count": 42,
   "id": "18158e5b",
   "metadata": {},
   "outputs": [],
   "source": [
    "# export visualization\n",
    "\n",
    "bar_income.figure.savefig(os.path.join(path, '04 Analysis','Visualizations', 'bar_income.png'))"
   ]
  },
  {
   "cell_type": "code",
   "execution_count": 43,
   "id": "60eb6edd",
   "metadata": {},
   "outputs": [],
   "source": [
    "# check spending by income range\n",
    "\n",
    "crosstab_income_age = pd.crosstab(full_merge_PII['income_group'], full_merge_PII['age_group'], dropna = False )"
   ]
  },
  {
   "cell_type": "code",
   "execution_count": 44,
   "id": "1d2c8e00",
   "metadata": {},
   "outputs": [
    {
     "data": {
      "image/png": "[encoded data removed]",
      "text/plain": [
       "<Figure size 432x288 with 1 Axes>"
      ]
     },
     "metadata": {
      "needs_background": "light"
     },
     "output_type": "display_data"
    }
   ],
   "source": [
    "crosstab_income_age = crosstab_income_age.plot(kind = 'bar', stacked = True, title = 'Spending by income range')"
   ]
  },
  {
   "cell_type": "code",
   "execution_count": 45,
   "id": "e51a50c4",
   "metadata": {},
   "outputs": [],
   "source": [
    "# Exporting visualization\n",
    "crosstab_income_age.figure.savefig(os.path.join(path, '04 Analysis','Visualizations', 'crosstab_income_age.png'))"
   ]
  },
  {
   "cell_type": "markdown",
   "id": "af704d49",
   "metadata": {},
   "source": [
    "## Goods"
   ]
  },
  {
   "cell_type": "code",
   "execution_count": 46,
   "id": "3c1762d2",
   "metadata": {},
   "outputs": [
    {
     "data": {
      "text/html": [
       "<div>\n",
       "<style scoped>\n",
       "    .dataframe tbody tr th:only-of-type {\n",
       "        vertical-align: middle;\n",
       "    }\n",
       "\n",
       "    .dataframe tbody tr th {\n",
       "        vertical-align: top;\n",
       "    }\n",
       "\n",
       "    .dataframe thead th {\n",
       "        text-align: right;\n",
       "    }\n",
       "</style>\n",
       "<table border=\"1\" class=\"dataframe\">\n",
       "  <thead>\n",
       "    <tr style=\"text-align: right;\">\n",
       "      <th></th>\n",
       "      <th>order_id</th>\n",
       "      <th>user_id</th>\n",
       "      <th>order_number</th>\n",
       "      <th>orders_days_of_week</th>\n",
       "      <th>order_hour_of_day</th>\n",
       "      <th>days_since_last_order</th>\n",
       "      <th>new_customer</th>\n",
       "      <th>product_id</th>\n",
       "      <th>add_to_cart_order</th>\n",
       "      <th>reordered</th>\n",
       "      <th>...</th>\n",
       "      <th>state</th>\n",
       "      <th>age</th>\n",
       "      <th>date_joined</th>\n",
       "      <th>#_of_dependents</th>\n",
       "      <th>marital_status</th>\n",
       "      <th>income</th>\n",
       "      <th>region</th>\n",
       "      <th>exclusion_flag</th>\n",
       "      <th>age_group</th>\n",
       "      <th>income_group</th>\n",
       "    </tr>\n",
       "  </thead>\n",
       "  <tbody>\n",
       "    <tr>\n",
       "      <th>0</th>\n",
       "      <td>2539329</td>\n",
       "      <td>1</td>\n",
       "      <td>1</td>\n",
       "      <td>2</td>\n",
       "      <td>8</td>\n",
       "      <td>NaN</td>\n",
       "      <td>True</td>\n",
       "      <td>196</td>\n",
       "      <td>1</td>\n",
       "      <td>0</td>\n",
       "      <td>...</td>\n",
       "      <td>Alabama</td>\n",
       "      <td>31</td>\n",
       "      <td>2/17/2019</td>\n",
       "      <td>3</td>\n",
       "      <td>married</td>\n",
       "      <td>40423</td>\n",
       "      <td>South</td>\n",
       "      <td>Normal activity customer</td>\n",
       "      <td>18-34 age group</td>\n",
       "      <td>Low income</td>\n",
       "    </tr>\n",
       "    <tr>\n",
       "      <th>1</th>\n",
       "      <td>2398795</td>\n",
       "      <td>1</td>\n",
       "      <td>2</td>\n",
       "      <td>3</td>\n",
       "      <td>7</td>\n",
       "      <td>15.0</td>\n",
       "      <td>False</td>\n",
       "      <td>196</td>\n",
       "      <td>1</td>\n",
       "      <td>1</td>\n",
       "      <td>...</td>\n",
       "      <td>Alabama</td>\n",
       "      <td>31</td>\n",
       "      <td>2/17/2019</td>\n",
       "      <td>3</td>\n",
       "      <td>married</td>\n",
       "      <td>40423</td>\n",
       "      <td>South</td>\n",
       "      <td>Normal activity customer</td>\n",
       "      <td>18-34 age group</td>\n",
       "      <td>Low income</td>\n",
       "    </tr>\n",
       "    <tr>\n",
       "      <th>2</th>\n",
       "      <td>473747</td>\n",
       "      <td>1</td>\n",
       "      <td>3</td>\n",
       "      <td>3</td>\n",
       "      <td>12</td>\n",
       "      <td>21.0</td>\n",
       "      <td>False</td>\n",
       "      <td>196</td>\n",
       "      <td>1</td>\n",
       "      <td>1</td>\n",
       "      <td>...</td>\n",
       "      <td>Alabama</td>\n",
       "      <td>31</td>\n",
       "      <td>2/17/2019</td>\n",
       "      <td>3</td>\n",
       "      <td>married</td>\n",
       "      <td>40423</td>\n",
       "      <td>South</td>\n",
       "      <td>Normal activity customer</td>\n",
       "      <td>18-34 age group</td>\n",
       "      <td>Low income</td>\n",
       "    </tr>\n",
       "    <tr>\n",
       "      <th>3</th>\n",
       "      <td>2254736</td>\n",
       "      <td>1</td>\n",
       "      <td>4</td>\n",
       "      <td>4</td>\n",
       "      <td>7</td>\n",
       "      <td>29.0</td>\n",
       "      <td>False</td>\n",
       "      <td>196</td>\n",
       "      <td>1</td>\n",
       "      <td>1</td>\n",
       "      <td>...</td>\n",
       "      <td>Alabama</td>\n",
       "      <td>31</td>\n",
       "      <td>2/17/2019</td>\n",
       "      <td>3</td>\n",
       "      <td>married</td>\n",
       "      <td>40423</td>\n",
       "      <td>South</td>\n",
       "      <td>Normal activity customer</td>\n",
       "      <td>18-34 age group</td>\n",
       "      <td>Low income</td>\n",
       "    </tr>\n",
       "    <tr>\n",
       "      <th>4</th>\n",
       "      <td>431534</td>\n",
       "      <td>1</td>\n",
       "      <td>5</td>\n",
       "      <td>4</td>\n",
       "      <td>15</td>\n",
       "      <td>28.0</td>\n",
       "      <td>False</td>\n",
       "      <td>196</td>\n",
       "      <td>1</td>\n",
       "      <td>1</td>\n",
       "      <td>...</td>\n",
       "      <td>Alabama</td>\n",
       "      <td>31</td>\n",
       "      <td>2/17/2019</td>\n",
       "      <td>3</td>\n",
       "      <td>married</td>\n",
       "      <td>40423</td>\n",
       "      <td>South</td>\n",
       "      <td>Normal activity customer</td>\n",
       "      <td>18-34 age group</td>\n",
       "      <td>Low income</td>\n",
       "    </tr>\n",
       "  </tbody>\n",
       "</table>\n",
       "<p>5 rows × 37 columns</p>\n",
       "</div>"
      ],
      "text/plain": [
       "   order_id  user_id  order_number  orders_days_of_week  order_hour_of_day  \\\n",
       "0   2539329        1             1                    2                  8   \n",
       "1   2398795        1             2                    3                  7   \n",
       "2    473747        1             3                    3                 12   \n",
       "3   2254736        1             4                    4                  7   \n",
       "4    431534        1             5                    4                 15   \n",
       "\n",
       "   days_since_last_order  new_customer  product_id  add_to_cart_order  \\\n",
       "0                    NaN          True         196                  1   \n",
       "1                   15.0         False         196                  1   \n",
       "2                   21.0         False         196                  1   \n",
       "3                   29.0         False         196                  1   \n",
       "4                   28.0         False         196                  1   \n",
       "\n",
       "   reordered  ...    state age  date_joined  #_of_dependents  marital_status  \\\n",
       "0          0  ...  Alabama  31    2/17/2019                3         married   \n",
       "1          1  ...  Alabama  31    2/17/2019                3         married   \n",
       "2          1  ...  Alabama  31    2/17/2019                3         married   \n",
       "3          1  ...  Alabama  31    2/17/2019                3         married   \n",
       "4          1  ...  Alabama  31    2/17/2019                3         married   \n",
       "\n",
       "  income region            exclusion_flag        age_group income_group  \n",
       "0  40423  South  Normal activity customer  18-34 age group   Low income  \n",
       "1  40423  South  Normal activity customer  18-34 age group   Low income  \n",
       "2  40423  South  Normal activity customer  18-34 age group   Low income  \n",
       "3  40423  South  Normal activity customer  18-34 age group   Low income  \n",
       "4  40423  South  Normal activity customer  18-34 age group   Low income  \n",
       "\n",
       "[5 rows x 37 columns]"
      ]
     },
     "execution_count": 46,
     "metadata": {},
     "output_type": "execute_result"
    }
   ],
   "source": [
    "full_merge_PII.head()"
   ]
  },
  {
   "cell_type": "code",
   "execution_count": 47,
   "id": "13eb7d3a",
   "metadata": {},
   "outputs": [],
   "source": [
    "pd.options.display.max_columns = None"
   ]
  },
  {
   "cell_type": "code",
   "execution_count": 48,
   "id": "c3998abb",
   "metadata": {},
   "outputs": [
    {
     "data": {
      "text/html": [
       "<div>\n",
       "<style scoped>\n",
       "    .dataframe tbody tr th:only-of-type {\n",
       "        vertical-align: middle;\n",
       "    }\n",
       "\n",
       "    .dataframe tbody tr th {\n",
       "        vertical-align: top;\n",
       "    }\n",
       "\n",
       "    .dataframe thead th {\n",
       "        text-align: right;\n",
       "    }\n",
       "</style>\n",
       "<table border=\"1\" class=\"dataframe\">\n",
       "  <thead>\n",
       "    <tr style=\"text-align: right;\">\n",
       "      <th></th>\n",
       "      <th>order_id</th>\n",
       "      <th>user_id</th>\n",
       "      <th>order_number</th>\n",
       "      <th>orders_days_of_week</th>\n",
       "      <th>order_hour_of_day</th>\n",
       "      <th>days_since_last_order</th>\n",
       "      <th>new_customer</th>\n",
       "      <th>product_id</th>\n",
       "      <th>add_to_cart_order</th>\n",
       "      <th>reordered</th>\n",
       "      <th>Unnamed: 0_y</th>\n",
       "      <th>product_name</th>\n",
       "      <th>aisle_id</th>\n",
       "      <th>department_id</th>\n",
       "      <th>prices</th>\n",
       "      <th>_merge</th>\n",
       "      <th>price_range_loc</th>\n",
       "      <th>busiest_day</th>\n",
       "      <th>busiest_days</th>\n",
       "      <th>busiest_period_of_day</th>\n",
       "      <th>max_order</th>\n",
       "      <th>loyalty_flag</th>\n",
       "      <th>spending</th>\n",
       "      <th>spending_flag</th>\n",
       "      <th>frequency</th>\n",
       "      <th>frequency_flag</th>\n",
       "      <th>gender</th>\n",
       "      <th>state</th>\n",
       "      <th>age</th>\n",
       "      <th>date_joined</th>\n",
       "      <th>#_of_dependents</th>\n",
       "      <th>marital_status</th>\n",
       "      <th>income</th>\n",
       "      <th>region</th>\n",
       "      <th>exclusion_flag</th>\n",
       "      <th>age_group</th>\n",
       "      <th>income_group</th>\n",
       "    </tr>\n",
       "  </thead>\n",
       "  <tbody>\n",
       "    <tr>\n",
       "      <th>0</th>\n",
       "      <td>2539329</td>\n",
       "      <td>1</td>\n",
       "      <td>1</td>\n",
       "      <td>2</td>\n",
       "      <td>8</td>\n",
       "      <td>NaN</td>\n",
       "      <td>True</td>\n",
       "      <td>196</td>\n",
       "      <td>1</td>\n",
       "      <td>0</td>\n",
       "      <td>195</td>\n",
       "      <td>Soda</td>\n",
       "      <td>77</td>\n",
       "      <td>7</td>\n",
       "      <td>9.0</td>\n",
       "      <td>both</td>\n",
       "      <td>Mid-range product</td>\n",
       "      <td>Regularly busy</td>\n",
       "      <td>Regularly busy</td>\n",
       "      <td>Average orders</td>\n",
       "      <td>10</td>\n",
       "      <td>New customer</td>\n",
       "      <td>6.367797</td>\n",
       "      <td>Low Spender</td>\n",
       "      <td>20.5</td>\n",
       "      <td>Non-frequent customer</td>\n",
       "      <td>Female</td>\n",
       "      <td>Alabama</td>\n",
       "      <td>31</td>\n",
       "      <td>2/17/2019</td>\n",
       "      <td>3</td>\n",
       "      <td>married</td>\n",
       "      <td>40423</td>\n",
       "      <td>South</td>\n",
       "      <td>Normal activity customer</td>\n",
       "      <td>18-34 age group</td>\n",
       "      <td>Low income</td>\n",
       "    </tr>\n",
       "    <tr>\n",
       "      <th>1</th>\n",
       "      <td>2398795</td>\n",
       "      <td>1</td>\n",
       "      <td>2</td>\n",
       "      <td>3</td>\n",
       "      <td>7</td>\n",
       "      <td>15.0</td>\n",
       "      <td>False</td>\n",
       "      <td>196</td>\n",
       "      <td>1</td>\n",
       "      <td>1</td>\n",
       "      <td>195</td>\n",
       "      <td>Soda</td>\n",
       "      <td>77</td>\n",
       "      <td>7</td>\n",
       "      <td>9.0</td>\n",
       "      <td>both</td>\n",
       "      <td>Mid-range product</td>\n",
       "      <td>Regularly busy</td>\n",
       "      <td>Slowest days</td>\n",
       "      <td>Average orders</td>\n",
       "      <td>10</td>\n",
       "      <td>New customer</td>\n",
       "      <td>6.367797</td>\n",
       "      <td>Low Spender</td>\n",
       "      <td>20.5</td>\n",
       "      <td>Non-frequent customer</td>\n",
       "      <td>Female</td>\n",
       "      <td>Alabama</td>\n",
       "      <td>31</td>\n",
       "      <td>2/17/2019</td>\n",
       "      <td>3</td>\n",
       "      <td>married</td>\n",
       "      <td>40423</td>\n",
       "      <td>South</td>\n",
       "      <td>Normal activity customer</td>\n",
       "      <td>18-34 age group</td>\n",
       "      <td>Low income</td>\n",
       "    </tr>\n",
       "    <tr>\n",
       "      <th>2</th>\n",
       "      <td>473747</td>\n",
       "      <td>1</td>\n",
       "      <td>3</td>\n",
       "      <td>3</td>\n",
       "      <td>12</td>\n",
       "      <td>21.0</td>\n",
       "      <td>False</td>\n",
       "      <td>196</td>\n",
       "      <td>1</td>\n",
       "      <td>1</td>\n",
       "      <td>195</td>\n",
       "      <td>Soda</td>\n",
       "      <td>77</td>\n",
       "      <td>7</td>\n",
       "      <td>9.0</td>\n",
       "      <td>both</td>\n",
       "      <td>Mid-range product</td>\n",
       "      <td>Regularly busy</td>\n",
       "      <td>Slowest days</td>\n",
       "      <td>Most orders</td>\n",
       "      <td>10</td>\n",
       "      <td>New customer</td>\n",
       "      <td>6.367797</td>\n",
       "      <td>Low Spender</td>\n",
       "      <td>20.5</td>\n",
       "      <td>Non-frequent customer</td>\n",
       "      <td>Female</td>\n",
       "      <td>Alabama</td>\n",
       "      <td>31</td>\n",
       "      <td>2/17/2019</td>\n",
       "      <td>3</td>\n",
       "      <td>married</td>\n",
       "      <td>40423</td>\n",
       "      <td>South</td>\n",
       "      <td>Normal activity customer</td>\n",
       "      <td>18-34 age group</td>\n",
       "      <td>Low income</td>\n",
       "    </tr>\n",
       "    <tr>\n",
       "      <th>3</th>\n",
       "      <td>2254736</td>\n",
       "      <td>1</td>\n",
       "      <td>4</td>\n",
       "      <td>4</td>\n",
       "      <td>7</td>\n",
       "      <td>29.0</td>\n",
       "      <td>False</td>\n",
       "      <td>196</td>\n",
       "      <td>1</td>\n",
       "      <td>1</td>\n",
       "      <td>195</td>\n",
       "      <td>Soda</td>\n",
       "      <td>77</td>\n",
       "      <td>7</td>\n",
       "      <td>9.0</td>\n",
       "      <td>both</td>\n",
       "      <td>Mid-range product</td>\n",
       "      <td>Least busy</td>\n",
       "      <td>Slowest days</td>\n",
       "      <td>Average orders</td>\n",
       "      <td>10</td>\n",
       "      <td>New customer</td>\n",
       "      <td>6.367797</td>\n",
       "      <td>Low Spender</td>\n",
       "      <td>20.5</td>\n",
       "      <td>Non-frequent customer</td>\n",
       "      <td>Female</td>\n",
       "      <td>Alabama</td>\n",
       "      <td>31</td>\n",
       "      <td>2/17/2019</td>\n",
       "      <td>3</td>\n",
       "      <td>married</td>\n",
       "      <td>40423</td>\n",
       "      <td>South</td>\n",
       "      <td>Normal activity customer</td>\n",
       "      <td>18-34 age group</td>\n",
       "      <td>Low income</td>\n",
       "    </tr>\n",
       "    <tr>\n",
       "      <th>4</th>\n",
       "      <td>431534</td>\n",
       "      <td>1</td>\n",
       "      <td>5</td>\n",
       "      <td>4</td>\n",
       "      <td>15</td>\n",
       "      <td>28.0</td>\n",
       "      <td>False</td>\n",
       "      <td>196</td>\n",
       "      <td>1</td>\n",
       "      <td>1</td>\n",
       "      <td>195</td>\n",
       "      <td>Soda</td>\n",
       "      <td>77</td>\n",
       "      <td>7</td>\n",
       "      <td>9.0</td>\n",
       "      <td>both</td>\n",
       "      <td>Mid-range product</td>\n",
       "      <td>Least busy</td>\n",
       "      <td>Slowest days</td>\n",
       "      <td>Most orders</td>\n",
       "      <td>10</td>\n",
       "      <td>New customer</td>\n",
       "      <td>6.367797</td>\n",
       "      <td>Low Spender</td>\n",
       "      <td>20.5</td>\n",
       "      <td>Non-frequent customer</td>\n",
       "      <td>Female</td>\n",
       "      <td>Alabama</td>\n",
       "      <td>31</td>\n",
       "      <td>2/17/2019</td>\n",
       "      <td>3</td>\n",
       "      <td>married</td>\n",
       "      <td>40423</td>\n",
       "      <td>South</td>\n",
       "      <td>Normal activity customer</td>\n",
       "      <td>18-34 age group</td>\n",
       "      <td>Low income</td>\n",
       "    </tr>\n",
       "  </tbody>\n",
       "</table>\n",
       "</div>"
      ],
      "text/plain": [
       "   order_id  user_id  order_number  orders_days_of_week  order_hour_of_day  \\\n",
       "0   2539329        1             1                    2                  8   \n",
       "1   2398795        1             2                    3                  7   \n",
       "2    473747        1             3                    3                 12   \n",
       "3   2254736        1             4                    4                  7   \n",
       "4    431534        1             5                    4                 15   \n",
       "\n",
       "   days_since_last_order  new_customer  product_id  add_to_cart_order  \\\n",
       "0                    NaN          True         196                  1   \n",
       "1                   15.0         False         196                  1   \n",
       "2                   21.0         False         196                  1   \n",
       "3                   29.0         False         196                  1   \n",
       "4                   28.0         False         196                  1   \n",
       "\n",
       "   reordered  Unnamed: 0_y product_name  aisle_id  department_id  prices  \\\n",
       "0          0           195         Soda        77              7     9.0   \n",
       "1          1           195         Soda        77              7     9.0   \n",
       "2          1           195         Soda        77              7     9.0   \n",
       "3          1           195         Soda        77              7     9.0   \n",
       "4          1           195         Soda        77              7     9.0   \n",
       "\n",
       "  _merge    price_range_loc     busiest_day    busiest_days  \\\n",
       "0   both  Mid-range product  Regularly busy  Regularly busy   \n",
       "1   both  Mid-range product  Regularly busy    Slowest days   \n",
       "2   both  Mid-range product  Regularly busy    Slowest days   \n",
       "3   both  Mid-range product      Least busy    Slowest days   \n",
       "4   both  Mid-range product      Least busy    Slowest days   \n",
       "\n",
       "  busiest_period_of_day  max_order  loyalty_flag  spending spending_flag  \\\n",
       "0        Average orders         10  New customer  6.367797   Low Spender   \n",
       "1        Average orders         10  New customer  6.367797   Low Spender   \n",
       "2           Most orders         10  New customer  6.367797   Low Spender   \n",
       "3        Average orders         10  New customer  6.367797   Low Spender   \n",
       "4           Most orders         10  New customer  6.367797   Low Spender   \n",
       "\n",
       "   frequency         frequency_flag  gender    state  age date_joined  \\\n",
       "0       20.5  Non-frequent customer  Female  Alabama   31   2/17/2019   \n",
       "1       20.5  Non-frequent customer  Female  Alabama   31   2/17/2019   \n",
       "2       20.5  Non-frequent customer  Female  Alabama   31   2/17/2019   \n",
       "3       20.5  Non-frequent customer  Female  Alabama   31   2/17/2019   \n",
       "4       20.5  Non-frequent customer  Female  Alabama   31   2/17/2019   \n",
       "\n",
       "   #_of_dependents marital_status  income region            exclusion_flag  \\\n",
       "0                3        married   40423  South  Normal activity customer   \n",
       "1                3        married   40423  South  Normal activity customer   \n",
       "2                3        married   40423  South  Normal activity customer   \n",
       "3                3        married   40423  South  Normal activity customer   \n",
       "4                3        married   40423  South  Normal activity customer   \n",
       "\n",
       "         age_group income_group  \n",
       "0  18-34 age group   Low income  \n",
       "1  18-34 age group   Low income  \n",
       "2  18-34 age group   Low income  \n",
       "3  18-34 age group   Low income  \n",
       "4  18-34 age group   Low income  "
      ]
     },
     "execution_count": 48,
     "metadata": {},
     "output_type": "execute_result"
    }
   ],
   "source": [
    "full_merge_PII.head()"
   ]
  },
  {
   "cell_type": "code",
   "execution_count": 49,
   "id": "b9e01d02",
   "metadata": {},
   "outputs": [],
   "source": [
    "# create goods profile list\n",
    "goods_profile = []\n",
    "\n",
    "for value in full_merge_PII['department_id']:\n",
    "    if value == 1:\n",
    "        goods_profile.append('Frozen')\n",
    "    elif value == 2:\n",
    "        goods_profile.append('Other')\n",
    "    elif value == 3:\n",
    "        goods_profile.append('Bakery')\n",
    "    elif value == 4:\n",
    "        goods_profile.append('Produce')\n",
    "    elif value == 5:\n",
    "        goods_profile.append('Alcohol')\n",
    "    elif value == 6:\n",
    "        goods_profile.append('International')\n",
    "    elif value == 7:\n",
    "        goods_profile.append('Beverages')\n",
    "    elif value == 8:\n",
    "        goods_profile.append('Pets')\n",
    "    elif value == 9:\n",
    "        goods_profile.append('Dry goods pasta')\n",
    "    elif value == 10:\n",
    "        goods_profile.append('Bulk')\n",
    "    elif value == 11:\n",
    "        goods_profile.append('Personal care')\n",
    "    elif value == 12:\n",
    "        goods_profile.append('Meat seafood')\n",
    "    elif value == 13:\n",
    "        goods_profile.append('Pantry')\n",
    "    elif value == 14:\n",
    "        goods_profile.append('Breakfast')\n",
    "    elif value == 15:\n",
    "        goods_profile.append('Canned goods')\n",
    "    elif value == 16:\n",
    "        goods_profile.append('Dairy eggs')\n",
    "    elif value == 17:\n",
    "        goods_profile.append('Household')\n",
    "    elif value == 18:\n",
    "        goods_profile.append('Babies')\n",
    "    elif value == 19:\n",
    "        goods_profile.append('Snacks')\n",
    "    elif value == 20:\n",
    "        goods_profile.append('Deli')\n",
    "    elif value == 21:\n",
    "        goods_profile.append('Missing')"
   ]
  },
  {
   "cell_type": "code",
   "execution_count": 50,
   "id": "ca5f16c1",
   "metadata": {},
   "outputs": [],
   "source": [
    "# apply goods profile function\n",
    "\n",
    "full_merge_PII['goods_profile'] = goods_profile"
   ]
  },
  {
   "cell_type": "code",
   "execution_count": 51,
   "id": "bfd00344",
   "metadata": {},
   "outputs": [
    {
     "data": {
      "text/plain": [
       "Produce            9479291\n",
       "Dairy eggs         5398747\n",
       "Snacks             2887550\n",
       "Beverages          2688123\n",
       "Frozen             2234743\n",
       "Pantry             1875369\n",
       "Bakery             1172428\n",
       "Canned goods       1068058\n",
       "Deli               1051249\n",
       "Dry goods pasta     866627\n",
       "Household           738666\n",
       "Meat seafood        708927\n",
       "Breakfast           703033\n",
       "Personal care       447572\n",
       "Babies              423802\n",
       "International       269253\n",
       "Alcohol             153696\n",
       "Pets                 97716\n",
       "Missing              69145\n",
       "Other                36291\n",
       "Bulk                 34573\n",
       "Name: goods_profile, dtype: int64"
      ]
     },
     "execution_count": 51,
     "metadata": {},
     "output_type": "execute_result"
    }
   ],
   "source": [
    "full_merge_PII['goods_profile'].value_counts()"
   ]
  },
  {
   "cell_type": "code",
   "execution_count": 52,
   "id": "78d87daa",
   "metadata": {},
   "outputs": [
    {
     "data": {
      "image/png": "[encoded data removed]",
      "text/plain": [
       "<Figure size 432x288 with 1 Axes>"
      ]
     },
     "metadata": {
      "needs_background": "light"
     },
     "output_type": "display_data"
    }
   ],
   "source": [
    "bar_goods_profile = full_merge_PII['goods_profile'].value_counts().plot.bar(ylabel = 'Count (millions)')"
   ]
  },
  {
   "cell_type": "code",
   "execution_count": 53,
   "id": "2b4bcf65",
   "metadata": {},
   "outputs": [],
   "source": [
    "# export visualization\n",
    "bar_goods_profile.figure.savefig(os.path.join(path, '04 Analysis','Visualizations', 'bar_goods_profile.png'))"
   ]
  },
  {
   "cell_type": "code",
   "execution_count": 55,
   "id": "fbb918dd",
   "metadata": {},
   "outputs": [],
   "source": [
    "crosstab_goods_frequency = pd.crosstab(full_merge_PII['goods_profile'], full_merge_PII['frequency_flag'], dropna = False )"
   ]
  },
  {
   "cell_type": "code",
   "execution_count": 56,
   "id": "7ab88db1",
   "metadata": {},
   "outputs": [
    {
     "data": {
      "image/png": "[encoded data removed]",
      "text/plain": [
       "<Figure size 432x288 with 1 Axes>"
      ]
     },
     "metadata": {
      "needs_background": "light"
     },
     "output_type": "display_data"
    }
   ],
   "source": [
    "crosstab_goods_frequency = crosstab_goods_frequency.plot(kind = 'line', stacked = True)"
   ]
  },
  {
   "cell_type": "code",
   "execution_count": 57,
   "id": "c568937f",
   "metadata": {},
   "outputs": [],
   "source": [
    "# export visualization\n",
    "\n",
    "crosstab_goods_frequency.figure.savefig(os.path.join(path, '04 Analysis','Visualizations', 'crosstab_goods_frequency.png'))"
   ]
  },
  {
   "cell_type": "markdown",
   "id": "956869d7",
   "metadata": {},
   "source": [
    "## Dependents"
   ]
  },
  {
   "cell_type": "code",
   "execution_count": 60,
   "id": "7b94db12",
   "metadata": {},
   "outputs": [
    {
     "data": {
      "text/plain": [
       "3    8135109\n",
       "0    8097503\n",
       "2    8091143\n",
       "1    8081104\n",
       "Name: #_of_dependents, dtype: int64"
      ]
     },
     "execution_count": 60,
     "metadata": {},
     "output_type": "execute_result"
    }
   ],
   "source": [
    "# count dependants\n",
    "\n",
    "full_merge_PII['#_of_dependents'].value_counts(dropna = False)"
   ]
  },
  {
   "cell_type": "code",
   "execution_count": 64,
   "id": "7dbe991b",
   "metadata": {},
   "outputs": [],
   "source": [
    "# check income range by number of dependants \n",
    "\n",
    "crosstab_dependents = pd.crosstab(full_merge_PII['income_group'], full_merge_PII['#_of_dependents'], dropna = False )"
   ]
  },
  {
   "cell_type": "code",
   "execution_count": 65,
   "id": "2d1c024e",
   "metadata": {},
   "outputs": [
    {
     "data": {
      "text/html": [
       "<div>\n",
       "<style scoped>\n",
       "    .dataframe tbody tr th:only-of-type {\n",
       "        vertical-align: middle;\n",
       "    }\n",
       "\n",
       "    .dataframe tbody tr th {\n",
       "        vertical-align: top;\n",
       "    }\n",
       "\n",
       "    .dataframe thead th {\n",
       "        text-align: right;\n",
       "    }\n",
       "</style>\n",
       "<table border=\"1\" class=\"dataframe\">\n",
       "  <thead>\n",
       "    <tr style=\"text-align: right;\">\n",
       "      <th>#_of_dependents</th>\n",
       "      <th>0</th>\n",
       "      <th>1</th>\n",
       "      <th>2</th>\n",
       "      <th>3</th>\n",
       "    </tr>\n",
       "    <tr>\n",
       "      <th>income_group</th>\n",
       "      <th></th>\n",
       "      <th></th>\n",
       "      <th></th>\n",
       "      <th></th>\n",
       "    </tr>\n",
       "  </thead>\n",
       "  <tbody>\n",
       "    <tr>\n",
       "      <th>High income</th>\n",
       "      <td>969893</td>\n",
       "      <td>945861</td>\n",
       "      <td>936419</td>\n",
       "      <td>940965</td>\n",
       "    </tr>\n",
       "    <tr>\n",
       "      <th>Highest income</th>\n",
       "      <td>65531</td>\n",
       "      <td>60132</td>\n",
       "      <td>70790</td>\n",
       "      <td>61990</td>\n",
       "    </tr>\n",
       "    <tr>\n",
       "      <th>Low income</th>\n",
       "      <td>668161</td>\n",
       "      <td>659525</td>\n",
       "      <td>690590</td>\n",
       "      <td>676620</td>\n",
       "    </tr>\n",
       "    <tr>\n",
       "      <th>Middle class</th>\n",
       "      <td>5939615</td>\n",
       "      <td>5950213</td>\n",
       "      <td>5953576</td>\n",
       "      <td>5990518</td>\n",
       "    </tr>\n",
       "    <tr>\n",
       "      <th>Upper middle class</th>\n",
       "      <td>454303</td>\n",
       "      <td>465373</td>\n",
       "      <td>439768</td>\n",
       "      <td>465016</td>\n",
       "    </tr>\n",
       "  </tbody>\n",
       "</table>\n",
       "</div>"
      ],
      "text/plain": [
       "#_of_dependents           0        1        2        3\n",
       "income_group                                          \n",
       "High income          969893   945861   936419   940965\n",
       "Highest income        65531    60132    70790    61990\n",
       "Low income           668161   659525   690590   676620\n",
       "Middle class        5939615  5950213  5953576  5990518\n",
       "Upper middle class   454303   465373   439768   465016"
      ]
     },
     "execution_count": 65,
     "metadata": {},
     "output_type": "execute_result"
    }
   ],
   "source": [
    "crosstab_dependents"
   ]
  },
  {
   "cell_type": "code",
   "execution_count": 66,
   "id": "a1425703",
   "metadata": {},
   "outputs": [
    {
     "data": {
      "image/png": "[encoded data removed]",
      "text/plain": [
       "<Figure size 432x288 with 1 Axes>"
      ]
     },
     "metadata": {
      "needs_background": "light"
     },
     "output_type": "display_data"
    }
   ],
   "source": [
    "crosstab_dependents = crosstab_dependents.plot(kind = 'bar', stacked = True)"
   ]
  },
  {
   "cell_type": "code",
   "execution_count": 67,
   "id": "31ebd901",
   "metadata": {},
   "outputs": [],
   "source": [
    "# export visualization\n",
    "\n",
    "crosstab_dependents.figure.savefig(os.path.join(path, '04 Analysis','Visualizations', 'crosstab_dependents.png'))"
   ]
  },
  {
   "cell_type": "markdown",
   "id": "1064b5e8",
   "metadata": {},
   "source": [
    "## Marital status"
   ]
  },
  {
   "cell_type": "code",
   "execution_count": 70,
   "id": "9d4a738a",
   "metadata": {},
   "outputs": [
    {
     "data": {
      "text/plain": [
       "married                             22756753\n",
       "single                               5325691\n",
       "divorced/widowed                     2771812\n",
       "living with parents and siblings     1550603\n",
       "Name: marital_status, dtype: int64"
      ]
     },
     "execution_count": 70,
     "metadata": {},
     "output_type": "execute_result"
    }
   ],
   "source": [
    "# count marital status\n",
    "\n",
    "full_merge_PII['marital_status'].value_counts(dropna = False)"
   ]
  },
  {
   "cell_type": "code",
   "execution_count": 72,
   "id": "11a6b641",
   "metadata": {},
   "outputs": [
    {
     "data": {
      "image/png": "[encoded data removed]",
      "text/plain": [
       "<Figure size 432x288 with 1 Axes>"
      ]
     },
     "metadata": {
      "needs_background": "light"
     },
     "output_type": "display_data"
    }
   ],
   "source": [
    "bar_marital_status = full_merge_PII['marital_status'].value_counts().plot.bar(ylabel = 'Count (millions)')"
   ]
  },
  {
   "cell_type": "code",
   "execution_count": 73,
   "id": "79acddf3",
   "metadata": {},
   "outputs": [],
   "source": [
    "bar_marital_status.figure.savefig(os.path.join(path, '04 Analysis','Visualizations', 'bar_marital_status.png'))"
   ]
  },
  {
   "cell_type": "markdown",
   "id": "07651373",
   "metadata": {},
   "source": [
    "## Price of orders vs frequency of orders"
   ]
  },
  {
   "cell_type": "code",
   "execution_count": 75,
   "id": "bc6e942e",
   "metadata": {},
   "outputs": [],
   "source": [
    "# check price of orders vs frequency of orders\n",
    "\n",
    "crosstab_price_frequency = pd.crosstab(full_merge_PII['price_range_loc'], full_merge_PII['frequency_flag'], dropna = False )"
   ]
  },
  {
   "cell_type": "code",
   "execution_count": 77,
   "id": "02066612",
   "metadata": {},
   "outputs": [
    {
     "data": {
      "image/png": "[encoded data removed]",
      "text/plain": [
       "<Figure size 432x288 with 1 Axes>"
      ]
     },
     "metadata": {
      "needs_background": "light"
     },
     "output_type": "display_data"
    }
   ],
   "source": [
    "crosstab_price_frequency = crosstab_price_frequency.plot(kind = 'bar', title = 'Price range of orders vs frequent customers')"
   ]
  },
  {
   "cell_type": "code",
   "execution_count": 78,
   "id": "44c93478",
   "metadata": {},
   "outputs": [],
   "source": [
    "# export visualization\n",
    "\n",
    "crosstab_price_frequency.figure.savefig(os.path.join(path, '04 Analysis','Visualizations', 'crosstab_price_frequency.png'))"
   ]
  },
  {
   "cell_type": "markdown",
   "id": "45bc61bc",
   "metadata": {},
   "source": [
    "# 6. Create an appropriate visualization to show the distribution of profiles."
   ]
  },
  {
   "cell_type": "code",
   "execution_count": 79,
   "id": "5250bc94",
   "metadata": {},
   "outputs": [
    {
     "data": {
      "image/png": "[encoded data removed]",
      "text/plain": [
       "<Figure size 432x288 with 1 Axes>"
      ]
     },
     "metadata": {
      "needs_background": "light"
     },
     "output_type": "display_data"
    }
   ],
   "source": [
    "# age groups visualization\n",
    "\n",
    "bar_age_group = full_merge_PII['age_group'].value_counts().sort_index().plot.bar()"
   ]
  },
  {
   "cell_type": "code",
   "execution_count": 80,
   "id": "c667b728",
   "metadata": {},
   "outputs": [
    {
     "data": {
      "image/png": "[encoded data removed]",
      "text/plain": [
       "<Figure size 432x288 with 1 Axes>"
      ]
     },
     "metadata": {
      "needs_background": "light"
     },
     "output_type": "display_data"
    }
   ],
   "source": [
    "# income groups visualization\n",
    "\n",
    "bar_income_groups = full_merge_PII['income_group'].value_counts().sort_index().plot.bar()"
   ]
  },
  {
   "cell_type": "code",
   "execution_count": 81,
   "id": "95b7b34a",
   "metadata": {},
   "outputs": [],
   "source": [
    "# export visualizations\n",
    "\n",
    "bar_age_group.figure.savefig(os.path.join(path, '04 Analysis','Visualizations', 'bar_age_group.png'))"
   ]
  },
  {
   "cell_type": "code",
   "execution_count": 82,
   "id": "fd06a1bb",
   "metadata": {},
   "outputs": [],
   "source": [
    "bar_income_groups.figure.savefig(os.path.join(path, '04 Analysis','Visualizations', 'bar_income_groups.png'))"
   ]
  },
  {
   "cell_type": "markdown",
   "id": "0c8eeaca",
   "metadata": {},
   "source": [
    "# 7. Aggregate the max, mean, and min variables on a customer-profile level for usage frequency and expenditure."
   ]
  },
  {
   "cell_type": "code",
   "execution_count": 84,
   "id": "f1baed50",
   "metadata": {},
   "outputs": [
    {
     "data": {
      "text/html": [
       "<div>\n",
       "<style scoped>\n",
       "    .dataframe tbody tr th:only-of-type {\n",
       "        vertical-align: middle;\n",
       "    }\n",
       "\n",
       "    .dataframe tbody tr th {\n",
       "        vertical-align: top;\n",
       "    }\n",
       "\n",
       "    .dataframe thead tr th {\n",
       "        text-align: left;\n",
       "    }\n",
       "\n",
       "    .dataframe thead tr:last-of-type th {\n",
       "        text-align: right;\n",
       "    }\n",
       "</style>\n",
       "<table border=\"1\" class=\"dataframe\">\n",
       "  <thead>\n",
       "    <tr>\n",
       "      <th></th>\n",
       "      <th colspan=\"3\" halign=\"left\">order_number</th>\n",
       "    </tr>\n",
       "    <tr>\n",
       "      <th></th>\n",
       "      <th>mean</th>\n",
       "      <th>min</th>\n",
       "      <th>max</th>\n",
       "    </tr>\n",
       "    <tr>\n",
       "      <th>income_group</th>\n",
       "      <th></th>\n",
       "      <th></th>\n",
       "      <th></th>\n",
       "    </tr>\n",
       "  </thead>\n",
       "  <tbody>\n",
       "    <tr>\n",
       "      <th>High income</th>\n",
       "      <td>17.313656</td>\n",
       "      <td>1</td>\n",
       "      <td>99</td>\n",
       "    </tr>\n",
       "    <tr>\n",
       "      <th>Highest income</th>\n",
       "      <td>19.731152</td>\n",
       "      <td>1</td>\n",
       "      <td>99</td>\n",
       "    </tr>\n",
       "    <tr>\n",
       "      <th>Low income</th>\n",
       "      <td>15.870704</td>\n",
       "      <td>1</td>\n",
       "      <td>99</td>\n",
       "    </tr>\n",
       "    <tr>\n",
       "      <th>Middle class</th>\n",
       "      <td>17.232468</td>\n",
       "      <td>1</td>\n",
       "      <td>99</td>\n",
       "    </tr>\n",
       "    <tr>\n",
       "      <th>Upper middle class</th>\n",
       "      <td>17.119757</td>\n",
       "      <td>1</td>\n",
       "      <td>99</td>\n",
       "    </tr>\n",
       "  </tbody>\n",
       "</table>\n",
       "</div>"
      ],
      "text/plain": [
       "                   order_number        \n",
       "                           mean min max\n",
       "income_group                           \n",
       "High income           17.313656   1  99\n",
       "Highest income        19.731152   1  99\n",
       "Low income            15.870704   1  99\n",
       "Middle class          17.232468   1  99\n",
       "Upper middle class    17.119757   1  99"
      ]
     },
     "execution_count": 84,
     "metadata": {},
     "output_type": "execute_result"
    }
   ],
   "source": [
    "# order number by income group\n",
    "\n",
    "full_merge_PII.groupby('income_group').agg({'order_number': ['mean', 'min', 'max']})"
   ]
  },
  {
   "cell_type": "code",
   "execution_count": 87,
   "id": "214f2869",
   "metadata": {},
   "outputs": [
    {
     "data": {
      "text/html": [
       "<div>\n",
       "<style scoped>\n",
       "    .dataframe tbody tr th:only-of-type {\n",
       "        vertical-align: middle;\n",
       "    }\n",
       "\n",
       "    .dataframe tbody tr th {\n",
       "        vertical-align: top;\n",
       "    }\n",
       "\n",
       "    .dataframe thead tr th {\n",
       "        text-align: left;\n",
       "    }\n",
       "\n",
       "    .dataframe thead tr:last-of-type th {\n",
       "        text-align: right;\n",
       "    }\n",
       "</style>\n",
       "<table border=\"1\" class=\"dataframe\">\n",
       "  <thead>\n",
       "    <tr>\n",
       "      <th></th>\n",
       "      <th colspan=\"3\" halign=\"left\">order_number</th>\n",
       "    </tr>\n",
       "    <tr>\n",
       "      <th></th>\n",
       "      <th>mean</th>\n",
       "      <th>min</th>\n",
       "      <th>max</th>\n",
       "    </tr>\n",
       "    <tr>\n",
       "      <th>age_group</th>\n",
       "      <th></th>\n",
       "      <th></th>\n",
       "      <th></th>\n",
       "    </tr>\n",
       "  </thead>\n",
       "  <tbody>\n",
       "    <tr>\n",
       "      <th>18-34 age group</th>\n",
       "      <td>17.126150</td>\n",
       "      <td>1</td>\n",
       "      <td>99</td>\n",
       "    </tr>\n",
       "    <tr>\n",
       "      <th>35-50 age group</th>\n",
       "      <td>17.234069</td>\n",
       "      <td>1</td>\n",
       "      <td>99</td>\n",
       "    </tr>\n",
       "    <tr>\n",
       "      <th>51-69 age group</th>\n",
       "      <td>17.142071</td>\n",
       "      <td>1</td>\n",
       "      <td>99</td>\n",
       "    </tr>\n",
       "    <tr>\n",
       "      <th>70-81 age group</th>\n",
       "      <td>17.068041</td>\n",
       "      <td>1</td>\n",
       "      <td>99</td>\n",
       "    </tr>\n",
       "  </tbody>\n",
       "</table>\n",
       "</div>"
      ],
      "text/plain": [
       "                order_number        \n",
       "                        mean min max\n",
       "age_group                           \n",
       "18-34 age group    17.126150   1  99\n",
       "35-50 age group    17.234069   1  99\n",
       "51-69 age group    17.142071   1  99\n",
       "70-81 age group    17.068041   1  99"
      ]
     },
     "execution_count": 87,
     "metadata": {},
     "output_type": "execute_result"
    }
   ],
   "source": [
    "# order number by age group\n",
    "\n",
    "full_merge_PII.groupby('age_group').agg({'order_number': ['mean', 'min', 'max']})"
   ]
  },
  {
   "cell_type": "code",
   "execution_count": 88,
   "id": "78799eaa",
   "metadata": {},
   "outputs": [
    {
     "data": {
      "text/html": [
       "<div>\n",
       "<style scoped>\n",
       "    .dataframe tbody tr th:only-of-type {\n",
       "        vertical-align: middle;\n",
       "    }\n",
       "\n",
       "    .dataframe tbody tr th {\n",
       "        vertical-align: top;\n",
       "    }\n",
       "\n",
       "    .dataframe thead tr th {\n",
       "        text-align: left;\n",
       "    }\n",
       "\n",
       "    .dataframe thead tr:last-of-type th {\n",
       "        text-align: right;\n",
       "    }\n",
       "</style>\n",
       "<table border=\"1\" class=\"dataframe\">\n",
       "  <thead>\n",
       "    <tr>\n",
       "      <th></th>\n",
       "      <th colspan=\"3\" halign=\"left\">order_number</th>\n",
       "    </tr>\n",
       "    <tr>\n",
       "      <th></th>\n",
       "      <th>mean</th>\n",
       "      <th>min</th>\n",
       "      <th>max</th>\n",
       "    </tr>\n",
       "    <tr>\n",
       "      <th>marital_status</th>\n",
       "      <th></th>\n",
       "      <th></th>\n",
       "      <th></th>\n",
       "    </tr>\n",
       "  </thead>\n",
       "  <tbody>\n",
       "    <tr>\n",
       "      <th>divorced/widowed</th>\n",
       "      <td>17.275873</td>\n",
       "      <td>1</td>\n",
       "      <td>99</td>\n",
       "    </tr>\n",
       "    <tr>\n",
       "      <th>living with parents and siblings</th>\n",
       "      <td>17.296372</td>\n",
       "      <td>1</td>\n",
       "      <td>99</td>\n",
       "    </tr>\n",
       "    <tr>\n",
       "      <th>married</th>\n",
       "      <td>17.088283</td>\n",
       "      <td>1</td>\n",
       "      <td>99</td>\n",
       "    </tr>\n",
       "    <tr>\n",
       "      <th>single</th>\n",
       "      <td>17.258766</td>\n",
       "      <td>1</td>\n",
       "      <td>99</td>\n",
       "    </tr>\n",
       "  </tbody>\n",
       "</table>\n",
       "</div>"
      ],
      "text/plain": [
       "                                 order_number        \n",
       "                                         mean min max\n",
       "marital_status                                       \n",
       "divorced/widowed                    17.275873   1  99\n",
       "living with parents and siblings    17.296372   1  99\n",
       "married                             17.088283   1  99\n",
       "single                              17.258766   1  99"
      ]
     },
     "execution_count": 88,
     "metadata": {},
     "output_type": "execute_result"
    }
   ],
   "source": [
    "# order number by marital status\n",
    "\n",
    "full_merge_PII.groupby('marital_status').agg({'order_number': ['mean', 'min', 'max']})"
   ]
  },
  {
   "cell_type": "markdown",
   "id": "8dfa99ed",
   "metadata": {},
   "source": [
    "# 8. Compare your customer profiles with regions and departments."
   ]
  },
  {
   "cell_type": "code",
   "execution_count": 89,
   "id": "017f07e9",
   "metadata": {},
   "outputs": [],
   "source": [
    "# compare region and marital status\n",
    "\n",
    "crosstab_region_marital= pd.crosstab(full_merge_PII['region'], full_merge_PII['marital_status'], dropna = False )"
   ]
  },
  {
   "cell_type": "code",
   "execution_count": 90,
   "id": "7c04b3f8",
   "metadata": {},
   "outputs": [
    {
     "data": {
      "image/png": "[encoded data removed]",
      "text/plain": [
       "<Figure size 432x288 with 1 Axes>"
      ]
     },
     "metadata": {
      "needs_background": "light"
     },
     "output_type": "display_data"
    }
   ],
   "source": [
    "crosstab_region_marital = crosstab_region_marital.plot(kind = 'bar', stacked = True)"
   ]
  },
  {
   "cell_type": "code",
   "execution_count": 91,
   "id": "881a433d",
   "metadata": {},
   "outputs": [],
   "source": [
    "# export visualization\n",
    "\n",
    "crosstab_region_marital.figure.savefig(os.path.join(path, '04 Analysis','Visualizations', 'crosstab_region_marital.png'))"
   ]
  },
  {
   "cell_type": "code",
   "execution_count": 92,
   "id": "8d78045f",
   "metadata": {},
   "outputs": [],
   "source": [
    "# compare region and age group\n",
    "\n",
    "crosstab_region_age= pd.crosstab(full_merge_PII['region'], full_merge_PII['age_group'], dropna = False )"
   ]
  },
  {
   "cell_type": "code",
   "execution_count": 93,
   "id": "0b3f6f42",
   "metadata": {},
   "outputs": [
    {
     "data": {
      "image/png": "[encoded data removed]",
      "text/plain": [
       "<Figure size 432x288 with 1 Axes>"
      ]
     },
     "metadata": {
      "needs_background": "light"
     },
     "output_type": "display_data"
    }
   ],
   "source": [
    "crosstab_region_age = crosstab_region_age.plot(kind = 'bar', stacked = True)"
   ]
  },
  {
   "cell_type": "code",
   "execution_count": 94,
   "id": "2af37436",
   "metadata": {},
   "outputs": [],
   "source": [
    "# export visualization\n",
    "\n",
    "crosstab_region_age.figure.savefig(os.path.join(path, '04 Analysis','Visualizations', 'crosstab_region_age.png'))"
   ]
  },
  {
   "cell_type": "code",
   "execution_count": 95,
   "id": "a95c74e3",
   "metadata": {},
   "outputs": [],
   "source": [
    "# compare region and income group\n",
    "\n",
    "crosstab_region_income= pd.crosstab(full_merge_PII['region'], full_merge_PII['income_group'], dropna = False )"
   ]
  },
  {
   "cell_type": "code",
   "execution_count": 96,
   "id": "b7da35f6",
   "metadata": {},
   "outputs": [
    {
     "data": {
      "image/png": "[encoded data removed]",
      "text/plain": [
       "<Figure size 432x288 with 1 Axes>"
      ]
     },
     "metadata": {
      "needs_background": "light"
     },
     "output_type": "display_data"
    }
   ],
   "source": [
    "crosstab_region_income = crosstab_region_income.plot(kind = 'bar', stacked = True)"
   ]
  },
  {
   "cell_type": "code",
   "execution_count": 97,
   "id": "cb64f1ec",
   "metadata": {},
   "outputs": [],
   "source": [
    "# export visualization\n",
    "\n",
    "crosstab_region_income.figure.savefig(os.path.join(path, '04 Analysis','Visualizations', 'crosstab_region_income.png'))"
   ]
  }
 ],
 "metadata": {
  "kernelspec": {
   "display_name": "Python 3 (ipykernel)",
   "language": "python",
   "name": "python3"
  },
  "language_info": {
   "codemirror_mode": {
    "name": "ipython",
    "version": 3
   },
   "file_extension": ".py",
   "mimetype": "text/x-python",
   "name": "python",
   "nbconvert_exporter": "python",
   "pygments_lexer": "ipython3",
   "version": "3.9.12"
  }
 },
 "nbformat": 4,
 "nbformat_minor": 5
}
