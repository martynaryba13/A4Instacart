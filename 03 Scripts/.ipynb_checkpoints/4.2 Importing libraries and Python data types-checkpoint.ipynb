{
 "cells": [
  {
   "cell_type": "markdown",
   "id": "af9bf4ea",
   "metadata": {},
   "source": [
    "# 01. Importing Libraries"
   ]
  },
  {
   "cell_type": "code",
   "execution_count": 1,
   "id": "b3bd4cf3",
   "metadata": {},
   "outputs": [],
   "source": [
    "# Import libraries\n",
    "import pandas as pd\n",
    "import numpy as np\n",
    "import os"
   ]
  },
  {
   "cell_type": "markdown",
   "id": "60e094f3",
   "metadata": {},
   "source": [
    "# 02. Data Types"
   ]
  },
  {
   "cell_type": "code",
   "execution_count": 11,
   "id": "998738f6",
   "metadata": {},
   "outputs": [],
   "source": [
    "a=25"
   ]
  },
  {
   "cell_type": "code",
   "execution_count": 12,
   "id": "dec35154",
   "metadata": {},
   "outputs": [],
   "source": [
    "b=50"
   ]
  },
  {
   "cell_type": "code",
   "execution_count": 13,
   "id": "5282749d",
   "metadata": {},
   "outputs": [],
   "source": [
    "c=75"
   ]
  },
  {
   "cell_type": "code",
   "execution_count": 16,
   "id": "b29af3a2",
   "metadata": {},
   "outputs": [],
   "source": [
    "d=150"
   ]
  },
  {
   "cell_type": "code",
   "execution_count": 17,
   "id": "c343fa02",
   "metadata": {},
   "outputs": [
    {
     "data": {
      "text/plain": [
       "100"
      ]
     },
     "execution_count": 17,
     "metadata": {},
     "output_type": "execute_result"
    }
   ],
   "source": [
    "a+c"
   ]
  },
  {
   "cell_type": "code",
   "execution_count": 18,
   "id": "00ee5808",
   "metadata": {},
   "outputs": [
    {
     "data": {
      "text/plain": [
       "100"
      ]
     },
     "execution_count": 18,
     "metadata": {},
     "output_type": "execute_result"
    }
   ],
   "source": [
    "b+b"
   ]
  },
  {
   "cell_type": "code",
   "execution_count": 19,
   "id": "3e3a1ffc",
   "metadata": {},
   "outputs": [
    {
     "data": {
      "text/plain": [
       "100"
      ]
     },
     "execution_count": 19,
     "metadata": {},
     "output_type": "execute_result"
    }
   ],
   "source": [
    "d-b"
   ]
  },
  {
   "cell_type": "code",
   "execution_count": 20,
   "id": "28695659",
   "metadata": {},
   "outputs": [],
   "source": [
    "e=12.34"
   ]
  },
  {
   "cell_type": "code",
   "execution_count": 21,
   "id": "ea16328f",
   "metadata": {},
   "outputs": [],
   "source": [
    "f=5.67"
   ]
  },
  {
   "cell_type": "code",
   "execution_count": 22,
   "id": "83d9a57d",
   "metadata": {},
   "outputs": [
    {
     "data": {
      "text/plain": [
       "2.17636684303351"
      ]
     },
     "execution_count": 22,
     "metadata": {},
     "output_type": "execute_result"
    }
   ],
   "source": [
    "e/f"
   ]
  },
  {
   "cell_type": "code",
   "execution_count": 23,
   "id": "3f60a659",
   "metadata": {},
   "outputs": [],
   "source": [
    "g='base'"
   ]
  },
  {
   "cell_type": "code",
   "execution_count": 24,
   "id": "5a442ace",
   "metadata": {},
   "outputs": [],
   "source": [
    "h='ball'"
   ]
  },
  {
   "cell_type": "code",
   "execution_count": 25,
   "id": "de5e0d8c",
   "metadata": {},
   "outputs": [
    {
     "data": {
      "text/plain": [
       "'baseball'"
      ]
     },
     "execution_count": 25,
     "metadata": {},
     "output_type": "execute_result"
    }
   ],
   "source": [
    "g+h"
   ]
  },
  {
   "cell_type": "code",
   "execution_count": 26,
   "id": "34356094",
   "metadata": {},
   "outputs": [],
   "source": [
    "i='Today is Saturday, '"
   ]
  },
  {
   "cell_type": "code",
   "execution_count": 27,
   "id": "2a6dc55e",
   "metadata": {},
   "outputs": [],
   "source": [
    "j='it is a good day!'"
   ]
  },
  {
   "cell_type": "code",
   "execution_count": 28,
   "id": "175a4553",
   "metadata": {},
   "outputs": [
    {
     "data": {
      "text/plain": [
       "'Today is Saturday, it is a good day!'"
      ]
     },
     "execution_count": 28,
     "metadata": {},
     "output_type": "execute_result"
    }
   ],
   "source": [
    "i+j"
   ]
  },
  {
   "cell_type": "code",
   "execution_count": 29,
   "id": "8fa6a982",
   "metadata": {},
   "outputs": [],
   "source": [
    "k='I have a lot of energey today, '"
   ]
  },
  {
   "cell_type": "code",
   "execution_count": 30,
   "id": "f9a3bc9a",
   "metadata": {},
   "outputs": [],
   "source": [
    "l='I drank a lot of coffee.'"
   ]
  },
  {
   "cell_type": "code",
   "execution_count": 31,
   "id": "7020a161",
   "metadata": {},
   "outputs": [
    {
     "data": {
      "text/plain": [
       "'I have a lot of energey today, I drank a lot of coffee.'"
      ]
     },
     "execution_count": 31,
     "metadata": {},
     "output_type": "execute_result"
    }
   ],
   "source": [
    "k+l"
   ]
  },
  {
   "cell_type": "code",
   "execution_count": 32,
   "id": "1fb7842e",
   "metadata": {},
   "outputs": [
    {
     "data": {
      "text/plain": [
       "'ballballballballballballballballballballballballballballballballballballballballballballballballballballballballballballballballballballballballballballballballballballballballballballballballballballballballballballballballballballballballballballballballballballballballballballballballballballballballballballballballballballballballballballballballballballballballballballballballballballballball'"
      ]
     },
     "execution_count": 32,
     "metadata": {},
     "output_type": "execute_result"
    }
   ],
   "source": [
    "h*100"
   ]
  },
  {
   "cell_type": "code",
   "execution_count": null,
   "id": "ece24cb8",
   "metadata": {},
   "outputs": [],
   "source": []
  }
 ],
 "metadata": {
  "kernelspec": {
   "display_name": "Python 3 (ipykernel)",
   "language": "python",
   "name": "python3"
  },
  "language_info": {
   "codemirror_mode": {
    "name": "ipython",
    "version": 3
   },
   "file_extension": ".py",
   "mimetype": "text/x-python",
   "name": "python",
   "nbconvert_exporter": "python",
   "pygments_lexer": "ipython3",
   "version": "3.9.12"
  }
 },
 "nbformat": 4,
 "nbformat_minor": 5
}
